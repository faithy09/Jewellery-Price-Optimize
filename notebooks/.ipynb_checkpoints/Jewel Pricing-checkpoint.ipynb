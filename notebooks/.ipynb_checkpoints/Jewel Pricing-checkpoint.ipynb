{
 "cells": [
  {
   "cell_type": "code",
   "execution_count": 1,
   "id": "f0d2c88b-234a-4183-8709-b2469576e62a",
   "metadata": {},
   "outputs": [],
   "source": [
    "#Import libraries\n",
    "import pandas as pd\n",
    "import numpy as np\n",
    "import seaborn as sns\n",
    "from matplotlib import pyplot as plt\n",
    "from sklearn.ensemble import RandomForestClassifier\n",
    "from sklearn.linear_model import LogisticRegression\n",
    "#set visualization theme\n",
    "sns.set()"
   ]
  },
  {
   "cell_type": "code",
   "execution_count": 2,
   "id": "6158c082-1866-4971-805d-6c88d027355a",
   "metadata": {},
   "outputs": [],
   "source": [
    "#import data set\n",
    "df = pd.read_csv(\"../data/Jewelry_Dataset.csv\")\n",
    "\n",
    "#structure the columns\n",
    "df.columns = [\n",
    "    \"Order_Datetime\",\n",
    "    \"Order_id\",\n",
    "    \"Product_id\",\n",
    "    \"SKU_Quantity\",\n",
    "    \"Category_ID\",\n",
    "    \"Category\",\n",
    "    \"Brand_ID\",\n",
    "    \"Price_USD\",\n",
    "    \"User_ID\",\n",
    "    \"Target_Gender\",\n",
    "    \"Main_Color\",\n",
    "    \"Main_Metal\",\n",
    "    \"Main_Gem\",\n",
    "]"
   ]
  },
  {
   "cell_type": "code",
   "execution_count": 3,
   "id": "32b2a125-d8dc-4e24-801a-5ca46450b585",
   "metadata": {},
   "outputs": [
    {
     "data": {
      "text/html": [
       "<div>\n",
       "<style scoped>\n",
       "    .dataframe tbody tr th:only-of-type {\n",
       "        vertical-align: middle;\n",
       "    }\n",
       "\n",
       "    .dataframe tbody tr th {\n",
       "        vertical-align: top;\n",
       "    }\n",
       "\n",
       "    .dataframe thead th {\n",
       "        text-align: right;\n",
       "    }\n",
       "</style>\n",
       "<table border=\"1\" class=\"dataframe\">\n",
       "  <thead>\n",
       "    <tr style=\"text-align: right;\">\n",
       "      <th></th>\n",
       "      <th>Order_Datetime</th>\n",
       "      <th>Order_id</th>\n",
       "      <th>Product_id</th>\n",
       "      <th>SKU_Quantity</th>\n",
       "      <th>Category_ID</th>\n",
       "      <th>Category</th>\n",
       "      <th>Brand_ID</th>\n",
       "      <th>Price_USD</th>\n",
       "      <th>User_ID</th>\n",
       "      <th>Target_Gender</th>\n",
       "      <th>Main_Color</th>\n",
       "      <th>Main_Metal</th>\n",
       "      <th>Main_Gem</th>\n",
       "    </tr>\n",
       "  </thead>\n",
       "  <tbody>\n",
       "    <tr>\n",
       "      <th>0</th>\n",
       "      <td>2018-12-01 17:38:31 UTC</td>\n",
       "      <td>1924899396621697920</td>\n",
       "      <td>1806829193678291446</td>\n",
       "      <td>1</td>\n",
       "      <td>1.806829e+18</td>\n",
       "      <td>NaN</td>\n",
       "      <td>NaN</td>\n",
       "      <td>212.14</td>\n",
       "      <td>1.515916e+18</td>\n",
       "      <td>NaN</td>\n",
       "      <td>yellow</td>\n",
       "      <td>gold</td>\n",
       "      <td>NaN</td>\n",
       "    </tr>\n",
       "    <tr>\n",
       "      <th>1</th>\n",
       "      <td>2018-12-02 13:53:42 UTC</td>\n",
       "      <td>1925511016616034733</td>\n",
       "      <td>1842214461889315556</td>\n",
       "      <td>1</td>\n",
       "      <td>1.806829e+18</td>\n",
       "      <td>jewelry.pendant</td>\n",
       "      <td>1.0</td>\n",
       "      <td>54.66</td>\n",
       "      <td>1.515916e+18</td>\n",
       "      <td>f</td>\n",
       "      <td>white</td>\n",
       "      <td>gold</td>\n",
       "      <td>sapphire</td>\n",
       "    </tr>\n",
       "    <tr>\n",
       "      <th>2</th>\n",
       "      <td>2018-12-02 17:44:02 UTC</td>\n",
       "      <td>1925626951238681511</td>\n",
       "      <td>1835566849434059453</td>\n",
       "      <td>1</td>\n",
       "      <td>1.806829e+18</td>\n",
       "      <td>jewelry.pendant</td>\n",
       "      <td>0.0</td>\n",
       "      <td>88.90</td>\n",
       "      <td>1.515916e+18</td>\n",
       "      <td>f</td>\n",
       "      <td>red</td>\n",
       "      <td>gold</td>\n",
       "      <td>diamond</td>\n",
       "    </tr>\n",
       "    <tr>\n",
       "      <th>3</th>\n",
       "      <td>2018-12-02 21:30:19 UTC</td>\n",
       "      <td>1925740842841014667</td>\n",
       "      <td>1873936840742928865</td>\n",
       "      <td>1</td>\n",
       "      <td>1.806829e+18</td>\n",
       "      <td>jewelry.necklace</td>\n",
       "      <td>0.0</td>\n",
       "      <td>417.67</td>\n",
       "      <td>1.515916e+18</td>\n",
       "      <td>NaN</td>\n",
       "      <td>red</td>\n",
       "      <td>gold</td>\n",
       "      <td>amethyst</td>\n",
       "    </tr>\n",
       "    <tr>\n",
       "      <th>4</th>\n",
       "      <td>2018-12-02 22:09:34 UTC</td>\n",
       "      <td>1925760595336888995</td>\n",
       "      <td>1835566854827934449</td>\n",
       "      <td>1</td>\n",
       "      <td>1.806829e+18</td>\n",
       "      <td>jewelry.earring</td>\n",
       "      <td>1.0</td>\n",
       "      <td>102.27</td>\n",
       "      <td>1.515916e+18</td>\n",
       "      <td>NaN</td>\n",
       "      <td>red</td>\n",
       "      <td>gold</td>\n",
       "      <td>NaN</td>\n",
       "    </tr>\n",
       "  </tbody>\n",
       "</table>\n",
       "</div>"
      ],
      "text/plain": [
       "            Order_Datetime             Order_id           Product_id  \\\n",
       "0  2018-12-01 17:38:31 UTC  1924899396621697920  1806829193678291446   \n",
       "1  2018-12-02 13:53:42 UTC  1925511016616034733  1842214461889315556   \n",
       "2  2018-12-02 17:44:02 UTC  1925626951238681511  1835566849434059453   \n",
       "3  2018-12-02 21:30:19 UTC  1925740842841014667  1873936840742928865   \n",
       "4  2018-12-02 22:09:34 UTC  1925760595336888995  1835566854827934449   \n",
       "\n",
       "   SKU_Quantity   Category_ID          Category  Brand_ID  Price_USD  \\\n",
       "0             1  1.806829e+18               NaN       NaN     212.14   \n",
       "1             1  1.806829e+18   jewelry.pendant       1.0      54.66   \n",
       "2             1  1.806829e+18   jewelry.pendant       0.0      88.90   \n",
       "3             1  1.806829e+18  jewelry.necklace       0.0     417.67   \n",
       "4             1  1.806829e+18   jewelry.earring       1.0     102.27   \n",
       "\n",
       "        User_ID Target_Gender Main_Color Main_Metal  Main_Gem  \n",
       "0  1.515916e+18           NaN     yellow       gold       NaN  \n",
       "1  1.515916e+18             f      white       gold  sapphire  \n",
       "2  1.515916e+18             f        red       gold   diamond  \n",
       "3  1.515916e+18           NaN        red       gold  amethyst  \n",
       "4  1.515916e+18           NaN        red       gold       NaN  "
      ]
     },
     "execution_count": 3,
     "metadata": {},
     "output_type": "execute_result"
    }
   ],
   "source": [
    "#View data\n",
    "df.head(5)\n"
   ]
  },
  {
   "cell_type": "code",
   "execution_count": 4,
   "id": "60a3a25e-79b4-4162-955c-583f26c65b33",
   "metadata": {},
   "outputs": [
    {
     "data": {
      "text/plain": [
       "Index(['Order_Datetime', 'Order_id', 'Product_id', 'SKU_Quantity',\n",
       "       'Category_ID', 'Category', 'Brand_ID', 'Price_USD', 'User_ID',\n",
       "       'Target_Gender', 'Main_Color', 'Main_Metal', 'Main_Gem'],\n",
       "      dtype='object')"
      ]
     },
     "execution_count": 4,
     "metadata": {},
     "output_type": "execute_result"
    }
   ],
   "source": [
    "df.columns"
   ]
  },
  {
   "cell_type": "code",
   "execution_count": 5,
   "id": "463d4eae-2eba-4ca0-b1ec-5845f288f7cd",
   "metadata": {},
   "outputs": [
    {
     "name": "stdout",
     "output_type": "stream",
     "text": [
      "Index(['Order_Datetime', 'Order_Id', 'Product_Id', 'Sku_Quantity',\n",
      "       'Category_Id', 'Category', 'Brand_Id', 'Price_Usd', 'User_Id',\n",
      "       'Target_Gender', 'Main_Color', 'Main_Metal', 'Main_Gem'],\n",
      "      dtype='object')\n"
     ]
    }
   ],
   "source": [
    "# Strip spaces and standardize capitalization and underscores\n",
    "df.columns = [col.strip().replace(\" \", \"_\").replace(\"-\", \"_\").title() for col in df.columns]\n",
    "\n",
    "# Display cleaned column names\n",
    "print(df.columns)"
   ]
  },
  {
   "cell_type": "code",
   "execution_count": 6,
   "id": "93154f03-c33a-4ef3-99df-6ba0f087ee97",
   "metadata": {},
   "outputs": [],
   "source": [
    "# Rename 'Order_Id' to 'Order_ID'\n",
    "df.rename(columns={'Order_Id': 'Order_ID'}, inplace=True)"
   ]
  },
  {
   "cell_type": "code",
   "execution_count": 7,
   "id": "a42c1e6d-22d9-4bde-b4ae-521979e84694",
   "metadata": {},
   "outputs": [],
   "source": [
    "# Rename 'Product_Id' to 'Product_ID'\n",
    "df.rename(columns={'Product_Id': 'Product_ID'}, inplace=True)"
   ]
  },
  {
   "cell_type": "code",
   "execution_count": 8,
   "id": "e7341a59-f638-4d1f-9bc0-f1dae980563b",
   "metadata": {},
   "outputs": [],
   "source": [
    "# Rename 'Category_Id' to 'Category_ID'\n",
    "df.rename(columns={'Category_Id': 'Category_ID'}, inplace=True)"
   ]
  },
  {
   "cell_type": "code",
   "execution_count": 9,
   "id": "63736a62-1ccb-40f1-859b-26d256c0ad8c",
   "metadata": {},
   "outputs": [],
   "source": [
    "# Rename 'Brand_Id' to 'Branch_ID'\n",
    "df.rename(columns={'Brand_Id': 'Branch_ID'}, inplace=True)"
   ]
  },
  {
   "cell_type": "code",
   "execution_count": 10,
   "id": "70d05332-6f37-4d46-8163-3a335bc04162",
   "metadata": {},
   "outputs": [],
   "source": [
    "# Rename 'Price_Usd' to 'Price_USD'\n",
    "df.rename(columns={'Price_Usd': 'Price_USD'}, inplace=True)"
   ]
  },
  {
   "cell_type": "code",
   "execution_count": 11,
   "id": "9da63069-ae0e-4308-9cf9-aca10ca1c6f0",
   "metadata": {},
   "outputs": [],
   "source": [
    "# Rename 'User_Id' to 'User_ID'\n",
    "df.rename(columns={'User_Id': 'User_ID'}, inplace=True)"
   ]
  },
  {
   "cell_type": "code",
   "execution_count": 12,
   "id": "7ea2cbb3-1e88-45ef-bed6-dfeceb87d2cf",
   "metadata": {},
   "outputs": [
    {
     "data": {
      "text/plain": [
       "Index(['Order_Datetime', 'Order_ID', 'Product_ID', 'Sku_Quantity',\n",
       "       'Category_ID', 'Category', 'Branch_ID', 'Price_USD', 'User_ID',\n",
       "       'Target_Gender', 'Main_Color', 'Main_Metal', 'Main_Gem'],\n",
       "      dtype='object')"
      ]
     },
     "execution_count": 12,
     "metadata": {},
     "output_type": "execute_result"
    }
   ],
   "source": [
    "df.columns"
   ]
  },
  {
   "cell_type": "markdown",
   "id": "90fe1f30-d3ff-4bc1-8752-dc2b5a3ca1f4",
   "metadata": {},
   "source": [
    "# Exploratory Data Analysis"
   ]
  },
  {
   "cell_type": "code",
   "execution_count": 14,
   "id": "099f59ca-e09e-458e-914b-3fee10728cf1",
   "metadata": {},
   "outputs": [
    {
     "data": {
      "text/plain": [
       "Order_Datetime        0\n",
       "Order_ID              0\n",
       "Product_ID            0\n",
       "Sku_Quantity          0\n",
       "Category_ID        5352\n",
       "Category           9933\n",
       "Branch_ID          4785\n",
       "Price_USD          5352\n",
       "User_ID            5352\n",
       "Target_Gender     48167\n",
       "Main_Color         7660\n",
       "Main_Metal         5462\n",
       "Main_Gem          34058\n",
       "dtype: int64"
      ]
     },
     "execution_count": 14,
     "metadata": {},
     "output_type": "execute_result"
    }
   ],
   "source": [
    "#Check for missing values\n",
    "df.isnull().sum()"
   ]
  },
  {
   "cell_type": "code",
   "execution_count": 15,
   "id": "830d818f-3c2f-49c7-b167-7878e9046b0f",
   "metadata": {},
   "outputs": [
    {
     "data": {
      "text/plain": [
       "(95910, 13)"
      ]
     },
     "execution_count": 15,
     "metadata": {},
     "output_type": "execute_result"
    }
   ],
   "source": [
    "# Amount of total data\n",
    "df.shape"
   ]
  },
  {
   "cell_type": "code",
   "execution_count": 16,
   "id": "ec290709-1acd-48a0-9e0c-c117d22e37b1",
   "metadata": {},
   "outputs": [
    {
     "data": {
      "text/plain": [
       "Order_Datetime    74504\n",
       "Order_ID          74759\n",
       "Product_ID         9613\n",
       "Sku_Quantity          1\n",
       "Category_ID          25\n",
       "Category            218\n",
       "Branch_ID          2537\n",
       "Price_USD          3166\n",
       "User_ID           31079\n",
       "Target_Gender         2\n",
       "Main_Color            5\n",
       "Main_Metal            3\n",
       "Main_Gem             30\n",
       "dtype: int64"
      ]
     },
     "execution_count": 16,
     "metadata": {},
     "output_type": "execute_result"
    }
   ],
   "source": [
    "#Feature cardinality- how many unique value a column can take\n",
    "df.nunique()"
   ]
  },
  {
   "cell_type": "code",
   "execution_count": 17,
   "id": "4d188c92-1a24-47d3-91d2-6374d09c3571",
   "metadata": {},
   "outputs": [
    {
     "data": {
      "text/html": [
       "<div>\n",
       "<style scoped>\n",
       "    .dataframe tbody tr th:only-of-type {\n",
       "        vertical-align: middle;\n",
       "    }\n",
       "\n",
       "    .dataframe tbody tr th {\n",
       "        vertical-align: top;\n",
       "    }\n",
       "\n",
       "    .dataframe thead th {\n",
       "        text-align: right;\n",
       "    }\n",
       "</style>\n",
       "<table border=\"1\" class=\"dataframe\">\n",
       "  <thead>\n",
       "    <tr style=\"text-align: right;\">\n",
       "      <th></th>\n",
       "      <th>Order_ID</th>\n",
       "      <th>Product_ID</th>\n",
       "      <th>Sku_Quantity</th>\n",
       "      <th>Category_ID</th>\n",
       "      <th>Branch_ID</th>\n",
       "      <th>Price_USD</th>\n",
       "      <th>User_ID</th>\n",
       "    </tr>\n",
       "  </thead>\n",
       "  <tbody>\n",
       "    <tr>\n",
       "      <th>count</th>\n",
       "      <td>9.591000e+04</td>\n",
       "      <td>9.591000e+04</td>\n",
       "      <td>95910.0</td>\n",
       "      <td>9.055800e+04</td>\n",
       "      <td>9.112500e+04</td>\n",
       "      <td>90558.000000</td>\n",
       "      <td>9.055800e+04</td>\n",
       "    </tr>\n",
       "    <tr>\n",
       "      <th>mean</th>\n",
       "      <td>2.485191e+18</td>\n",
       "      <td>1.815970e+18</td>\n",
       "      <td>1.0</td>\n",
       "      <td>1.805947e+18</td>\n",
       "      <td>8.891036e+16</td>\n",
       "      <td>362.213017</td>\n",
       "      <td>1.512644e+18</td>\n",
       "    </tr>\n",
       "    <tr>\n",
       "      <th>std</th>\n",
       "      <td>1.934750e+17</td>\n",
       "      <td>2.136814e+17</td>\n",
       "      <td>0.0</td>\n",
       "      <td>2.083954e+16</td>\n",
       "      <td>3.559651e+17</td>\n",
       "      <td>444.157665</td>\n",
       "      <td>2.374776e+16</td>\n",
       "    </tr>\n",
       "    <tr>\n",
       "      <th>min</th>\n",
       "      <td>1.924899e+18</td>\n",
       "      <td>1.313551e+18</td>\n",
       "      <td>1.0</td>\n",
       "      <td>1.313678e+18</td>\n",
       "      <td>0.000000e+00</td>\n",
       "      <td>0.990000</td>\n",
       "      <td>1.313554e+18</td>\n",
       "    </tr>\n",
       "    <tr>\n",
       "      <th>25%</th>\n",
       "      <td>2.379732e+18</td>\n",
       "      <td>1.515966e+18</td>\n",
       "      <td>1.0</td>\n",
       "      <td>1.806829e+18</td>\n",
       "      <td>0.000000e+00</td>\n",
       "      <td>145.620000</td>\n",
       "      <td>1.515916e+18</td>\n",
       "    </tr>\n",
       "    <tr>\n",
       "      <th>50%</th>\n",
       "      <td>2.524282e+18</td>\n",
       "      <td>1.956664e+18</td>\n",
       "      <td>1.0</td>\n",
       "      <td>1.806829e+18</td>\n",
       "      <td>1.000000e+00</td>\n",
       "      <td>258.770000</td>\n",
       "      <td>1.515916e+18</td>\n",
       "    </tr>\n",
       "    <tr>\n",
       "      <th>75%</th>\n",
       "      <td>2.644347e+18</td>\n",
       "      <td>1.956664e+18</td>\n",
       "      <td>1.0</td>\n",
       "      <td>1.806829e+18</td>\n",
       "      <td>1.000000e+00</td>\n",
       "      <td>431.370000</td>\n",
       "      <td>1.515916e+18</td>\n",
       "    </tr>\n",
       "    <tr>\n",
       "      <th>max</th>\n",
       "      <td>2.719022e+18</td>\n",
       "      <td>2.541962e+18</td>\n",
       "      <td>1.0</td>\n",
       "      <td>1.806829e+18</td>\n",
       "      <td>1.550613e+18</td>\n",
       "      <td>34448.600000</td>\n",
       "      <td>1.554297e+18</td>\n",
       "    </tr>\n",
       "  </tbody>\n",
       "</table>\n",
       "</div>"
      ],
      "text/plain": [
       "           Order_ID    Product_ID  Sku_Quantity   Category_ID     Branch_ID  \\\n",
       "count  9.591000e+04  9.591000e+04       95910.0  9.055800e+04  9.112500e+04   \n",
       "mean   2.485191e+18  1.815970e+18           1.0  1.805947e+18  8.891036e+16   \n",
       "std    1.934750e+17  2.136814e+17           0.0  2.083954e+16  3.559651e+17   \n",
       "min    1.924899e+18  1.313551e+18           1.0  1.313678e+18  0.000000e+00   \n",
       "25%    2.379732e+18  1.515966e+18           1.0  1.806829e+18  0.000000e+00   \n",
       "50%    2.524282e+18  1.956664e+18           1.0  1.806829e+18  1.000000e+00   \n",
       "75%    2.644347e+18  1.956664e+18           1.0  1.806829e+18  1.000000e+00   \n",
       "max    2.719022e+18  2.541962e+18           1.0  1.806829e+18  1.550613e+18   \n",
       "\n",
       "          Price_USD       User_ID  \n",
       "count  90558.000000  9.055800e+04  \n",
       "mean     362.213017  1.512644e+18  \n",
       "std      444.157665  2.374776e+16  \n",
       "min        0.990000  1.313554e+18  \n",
       "25%      145.620000  1.515916e+18  \n",
       "50%      258.770000  1.515916e+18  \n",
       "75%      431.370000  1.515916e+18  \n",
       "max    34448.600000  1.554297e+18  "
      ]
     },
     "execution_count": 17,
     "metadata": {},
     "output_type": "execute_result"
    }
   ],
   "source": [
    "#data description of the data\n",
    "df.describe()"
   ]
  },
  {
   "cell_type": "code",
   "execution_count": 18,
   "id": "9a30ea83-18df-40c3-a4c0-f2b51a6d5db4",
   "metadata": {},
   "outputs": [
    {
     "name": "stdout",
     "output_type": "stream",
     "text": [
      "<class 'pandas.core.frame.DataFrame'>\n",
      "RangeIndex: 95910 entries, 0 to 95909\n",
      "Data columns (total 13 columns):\n",
      " #   Column          Non-Null Count  Dtype  \n",
      "---  ------          --------------  -----  \n",
      " 0   Order_Datetime  95910 non-null  object \n",
      " 1   Order_ID        95910 non-null  int64  \n",
      " 2   Product_ID      95910 non-null  int64  \n",
      " 3   Sku_Quantity    95910 non-null  int64  \n",
      " 4   Category_ID     90558 non-null  float64\n",
      " 5   Category        85977 non-null  object \n",
      " 6   Branch_ID       91125 non-null  float64\n",
      " 7   Price_USD       90558 non-null  float64\n",
      " 8   User_ID         90558 non-null  float64\n",
      " 9   Target_Gender   47743 non-null  object \n",
      " 10  Main_Color      88250 non-null  object \n",
      " 11  Main_Metal      90448 non-null  object \n",
      " 12  Main_Gem        61852 non-null  object \n",
      "dtypes: float64(4), int64(3), object(6)\n",
      "memory usage: 9.5+ MB\n"
     ]
    }
   ],
   "source": [
    "#data info\n",
    "df.info()"
   ]
  },
  {
   "cell_type": "code",
   "execution_count": 19,
   "id": "b608abb7-060d-4bb3-b60e-239272b997df",
   "metadata": {},
   "outputs": [
    {
     "data": {
      "text/html": [
       "<div>\n",
       "<style scoped>\n",
       "    .dataframe tbody tr th:only-of-type {\n",
       "        vertical-align: middle;\n",
       "    }\n",
       "\n",
       "    .dataframe tbody tr th {\n",
       "        vertical-align: top;\n",
       "    }\n",
       "\n",
       "    .dataframe thead th {\n",
       "        text-align: right;\n",
       "    }\n",
       "</style>\n",
       "<table border=\"1\" class=\"dataframe\">\n",
       "  <thead>\n",
       "    <tr style=\"text-align: right;\">\n",
       "      <th></th>\n",
       "      <th>Order_Datetime</th>\n",
       "      <th>Order_ID</th>\n",
       "      <th>Product_ID</th>\n",
       "      <th>Sku_Quantity</th>\n",
       "      <th>Category_ID</th>\n",
       "      <th>Category</th>\n",
       "      <th>Branch_ID</th>\n",
       "      <th>Price_USD</th>\n",
       "      <th>User_ID</th>\n",
       "      <th>Target_Gender</th>\n",
       "      <th>Main_Color</th>\n",
       "      <th>Main_Metal</th>\n",
       "      <th>Main_Gem</th>\n",
       "    </tr>\n",
       "  </thead>\n",
       "  <tbody>\n",
       "    <tr>\n",
       "      <th>0</th>\n",
       "      <td>2018-12-01 17:38:31 UTC</td>\n",
       "      <td>1924899396621697920</td>\n",
       "      <td>1806829193678291446</td>\n",
       "      <td>1</td>\n",
       "      <td>1.806829e+18</td>\n",
       "      <td>NaN</td>\n",
       "      <td>NaN</td>\n",
       "      <td>212.14</td>\n",
       "      <td>1.515916e+18</td>\n",
       "      <td>NaN</td>\n",
       "      <td>yellow</td>\n",
       "      <td>gold</td>\n",
       "      <td>NaN</td>\n",
       "    </tr>\n",
       "    <tr>\n",
       "      <th>1</th>\n",
       "      <td>2018-12-02 13:53:42 UTC</td>\n",
       "      <td>1925511016616034733</td>\n",
       "      <td>1842214461889315556</td>\n",
       "      <td>1</td>\n",
       "      <td>1.806829e+18</td>\n",
       "      <td>jewelry.pendant</td>\n",
       "      <td>1.0</td>\n",
       "      <td>54.66</td>\n",
       "      <td>1.515916e+18</td>\n",
       "      <td>f</td>\n",
       "      <td>white</td>\n",
       "      <td>gold</td>\n",
       "      <td>sapphire</td>\n",
       "    </tr>\n",
       "    <tr>\n",
       "      <th>2</th>\n",
       "      <td>2018-12-02 17:44:02 UTC</td>\n",
       "      <td>1925626951238681511</td>\n",
       "      <td>1835566849434059453</td>\n",
       "      <td>1</td>\n",
       "      <td>1.806829e+18</td>\n",
       "      <td>jewelry.pendant</td>\n",
       "      <td>0.0</td>\n",
       "      <td>88.90</td>\n",
       "      <td>1.515916e+18</td>\n",
       "      <td>f</td>\n",
       "      <td>red</td>\n",
       "      <td>gold</td>\n",
       "      <td>diamond</td>\n",
       "    </tr>\n",
       "  </tbody>\n",
       "</table>\n",
       "</div>"
      ],
      "text/plain": [
       "            Order_Datetime             Order_ID           Product_ID  \\\n",
       "0  2018-12-01 17:38:31 UTC  1924899396621697920  1806829193678291446   \n",
       "1  2018-12-02 13:53:42 UTC  1925511016616034733  1842214461889315556   \n",
       "2  2018-12-02 17:44:02 UTC  1925626951238681511  1835566849434059453   \n",
       "\n",
       "   Sku_Quantity   Category_ID         Category  Branch_ID  Price_USD  \\\n",
       "0             1  1.806829e+18              NaN        NaN     212.14   \n",
       "1             1  1.806829e+18  jewelry.pendant        1.0      54.66   \n",
       "2             1  1.806829e+18  jewelry.pendant        0.0      88.90   \n",
       "\n",
       "        User_ID Target_Gender Main_Color Main_Metal  Main_Gem  \n",
       "0  1.515916e+18           NaN     yellow       gold       NaN  \n",
       "1  1.515916e+18             f      white       gold  sapphire  \n",
       "2  1.515916e+18             f        red       gold   diamond  "
      ]
     },
     "execution_count": 19,
     "metadata": {},
     "output_type": "execute_result"
    }
   ],
   "source": [
    "df.head(3)"
   ]
  },
  {
   "cell_type": "code",
   "execution_count": 20,
   "id": "756e4b98-b85c-44b7-acf7-11d5d4871e10",
   "metadata": {},
   "outputs": [
    {
     "data": {
      "text/plain": [
       "Index(['Order_Datetime', 'Order_ID', 'Product_ID', 'Sku_Quantity',\n",
       "       'Category_ID', 'Category', 'Branch_ID', 'Price_USD', 'User_ID',\n",
       "       'Target_Gender', 'Main_Color', 'Main_Metal', 'Main_Gem'],\n",
       "      dtype='object')"
      ]
     },
     "execution_count": 20,
     "metadata": {},
     "output_type": "execute_result"
    }
   ],
   "source": [
    "df.columns"
   ]
  },
  {
   "cell_type": "code",
   "execution_count": 21,
   "id": "1b736b94-be12-4449-9f12-8a9469180ac7",
   "metadata": {},
   "outputs": [],
   "source": [
    "# Univariate Analysis"
   ]
  },
  {
   "cell_type": "code",
   "execution_count": 22,
   "id": "d08c6a2e-6d87-4556-bff6-11473192c96c",
   "metadata": {},
   "outputs": [
    {
     "data": {
      "text/plain": [
       "<Axes: xlabel='Price_USD'>"
      ]
     },
     "execution_count": 22,
     "metadata": {},
     "output_type": "execute_result"
    },
    {
     "data": {
      "image/png": "[encoded data removed]",
      "text/plain": [
       "<Figure size 640x480 with 1 Axes>"
      ]
     },
     "metadata": {},
     "output_type": "display_data"
    }
   ],
   "source": [
    "#check for outliers\n",
    "sns.boxplot(x=df[\"Price_USD\"])"
   ]
  },
  {
   "cell_type": "code",
   "execution_count": null,
   "id": "bc868e4e-b7a4-422c-8e27-632089c384fe",
   "metadata": {},
   "outputs": [
    {
     "data": {
      "image/png": "[encoded data removed]",
      "text/plain": [
       "<Figure size 500x300 with 1 Axes>"
      ]
     },
     "metadata": {},
     "output_type": "display_data"
    }
   ],
   "source": [
    "obj_col = df.select_dtypes(include=\"object\").columns.to_list()\n",
    "obj_col = [\"Main_Color\"] + obj_col\n",
    "\n",
    "for col in obj_col:\n",
    "    plt.figure(figsize=(5, 3))\n",
    "    sns.countplot(x=df[col])\n",
    "    plt.title(f\"Count plot of {col}\")\n",
    "    plt.show()\n",
    "    "
   ]
  },
  {
   "cell_type": "code",
   "execution_count": null,
   "id": "ce65d1bd-669f-471f-8f81-184e2531468c",
   "metadata": {},
   "outputs": [],
   "source": [
    "#Duplicate value\n",
    "num_duplicated = len(df.loc[df.duplicated()])"
   ]
  },
  {
   "cell_type": "code",
   "execution_count": null,
   "id": "804ea0c2-25bd-48d8-a872-11185d7b47f4",
   "metadata": {},
   "outputs": [],
   "source": [
    "#Print num of duplicated records\n",
    "print(f\"Number of duplicate records:\", num_duplicated)"
   ]
  },
  {
   "cell_type": "code",
   "execution_count": null,
   "id": "6cf60b5b-444b-401f-a9da-504116d3bed1",
   "metadata": {},
   "outputs": [],
   "source": [
    "# Check for duplicates\n",
    "print(df.duplicated().sum())\n",
    "\n",
    "# View unique values for categorical columns\n",
    "for col in df.select_dtypes(include='object'):\n",
    "    print(f\"{col}: {df[col].unique()}\")\n"
   ]
  },
  {
   "cell_type": "code",
   "execution_count": null,
   "id": "4f483cf1-4a7e-4c91-9197-98dac92319a5",
   "metadata": {},
   "outputs": [],
   "source": [
    "#Features with a cardinality of i (invariant features- nothing needed to learn about this feature)\n",
    "\n",
    "invariant_features = df.nunique()[df.nunique() == 1].index.tolist()"
   ]
  },
  {
   "cell_type": "code",
   "execution_count": null,
   "id": "b2086f55-7565-4bb7-b217-492fce2012b5",
   "metadata": {},
   "outputs": [],
   "source": [
    "invariant_features"
   ]
  },
  {
   "cell_type": "code",
   "execution_count": null,
   "id": "80a12c25-d56d-4d79-9745-094ef4d7f63d",
   "metadata": {},
   "outputs": [],
   "source": [
    "#Check for label distribution- looking for skew distribution\n",
    "df[\"Price_USD\"].skew()"
   ]
  },
  {
   "cell_type": "code",
   "execution_count": null,
   "id": "bb0de50c-67b0-4337-9968-b0d3981e8628",
   "metadata": {},
   "outputs": [],
   "source": [
    "#Price Kurtosis\n",
    "df[\"Price_USD\"].kurtosis()"
   ]
  },
  {
   "cell_type": "code",
   "execution_count": null,
   "id": "eda46f91-f317-4d7c-93ba-c5b5c449905d",
   "metadata": {},
   "outputs": [],
   "source": [
    "df.columns"
   ]
  },
  {
   "cell_type": "code",
   "execution_count": null,
   "id": "dd0dd5d3-e559-45c9-8ee0-0973ed7f2244",
   "metadata": {},
   "outputs": [],
   "source": [
    "#Visualize price distribution by plotting \n",
    "plt.figure(figsize = (20,10))\n",
    "\n",
    "sns.kdeplot(df, x = \"Price_USD\")\n",
    "\n",
    "plt.xlabel(\"Price in U.S. Dollars\")\n",
    "plt.ylabel(\"Price Frequency\")\n",
    "\n",
    "plt.tight_layout()\n",
    "plt.show(); plt.close()"
   ]
  },
  {
   "cell_type": "code",
   "execution_count": null,
   "id": "e57dab70-ee68-428a-8e5d-5260e6a36c8b",
   "metadata": {},
   "outputs": [],
   "source": [
    "# Target gender analysis\n",
    "df[\"Target_Gender\"].value_counts()"
   ]
  },
  {
   "cell_type": "code",
   "execution_count": null,
   "id": "22c85501-aade-4ad8-8332-f714f221e2ff",
   "metadata": {},
   "outputs": [],
   "source": [
    "# Target gender analysis- normalize\n",
    "df[\"Target_Gender\"].value_counts(normalize = True)"
   ]
  },
  {
   "cell_type": "code",
   "execution_count": null,
   "id": "f8b0d421-ead7-4767-a66e-1adb15aa08a0",
   "metadata": {},
   "outputs": [],
   "source": [
    "#Visualize Target_Gender - how jewellery is distributed\n",
    "plt.figure(figsize = (12,8))\n",
    "\n",
    "sns.countplot(data = df, x = \"Target_Gender\")\n",
    "\n",
    "plt.xlabel(\"Gender\")\n",
    "plt.ylabel(\"Gender Subpopulation\")\n",
    "\n",
    "plt.show(); plt.close()\n"
   ]
  },
  {
   "cell_type": "code",
   "execution_count": null,
   "id": "a2855314-edf1-438e-afa1-f9ac7194c326",
   "metadata": {},
   "outputs": [],
   "source": [
    "# Jewelry Category analysis\n",
    "df[\"Category\"].value_counts()"
   ]
  },
  {
   "cell_type": "code",
   "execution_count": null,
   "id": "fb55b81a-bda5-49f3-a52b-72eb95d8633c",
   "metadata": {},
   "outputs": [],
   "source": [
    "#Only few info makes sense of the data-, so eliminate data not needed like the numbers\n",
    "df[\"Category\"].unique()"
   ]
  },
  {
   "cell_type": "code",
   "execution_count": null,
   "id": "0ce69ef4-aece-4cbf-9bd8-a1afc5e19fc2",
   "metadata": {},
   "outputs": [],
   "source": [
    "# Extract the actual categories\n",
    "categories = df[\"Category\"].unique().tolist()\n",
    "categories = [c for c in categories if isinstance(c, str) and \"jewelry\" in c]"
   ]
  },
  {
   "cell_type": "code",
   "execution_count": null,
   "id": "41a30fb0-479d-47b8-aeef-58ef1571d96d",
   "metadata": {},
   "outputs": [],
   "source": [
    "categories"
   ]
  },
  {
   "cell_type": "code",
   "execution_count": null,
   "id": "1d6b70b1-272b-4b1c-9ef4-b4139436cc46",
   "metadata": {},
   "outputs": [],
   "source": [
    "#Pick out authentic data based on categories\n",
    "real_categories = df.loc[df[\"Category\"].isin(categories)]"
   ]
  },
  {
   "cell_type": "code",
   "execution_count": null,
   "id": "98668dd8-cc72-4199-87c2-f9c7e5e199b0",
   "metadata": {},
   "outputs": [],
   "source": [
    "#Percentage of missing values\n",
    "100 * df.isnull().sum() / len(df)"
   ]
  },
  {
   "cell_type": "code",
   "execution_count": null,
   "id": "83e86fba-4d87-4e94-a6a4-c5e44c18b6eb",
   "metadata": {},
   "outputs": [],
   "source": [
    "#Percentage of missing values fixed\n",
    "100 * real_categories.isnull().sum() / len(real_categories)"
   ]
  },
  {
   "cell_type": "markdown",
   "id": "b6fad540-ae9d-41de-940e-72900ee72fa7",
   "metadata": {},
   "source": [
    "# a large part of the corruption in the data is due to one of the feature corrupted- Category feature"
   ]
  },
  {
   "cell_type": "code",
   "execution_count": null,
   "id": "df549a9c-9706-4bfc-bef6-c619f06830d7",
   "metadata": {},
   "outputs": [],
   "source": [
    "#Visualize jewelry Category feature\n",
    "subdf = real_categories[\"Category\"].value_counts()\n",
    "\n",
    "jewelry_categories, counts = subdf.index.tolist(), subdf.values.tolist()\n",
    "\n",
    "plt.figure(figsize = (12,8))\n",
    "\n",
    "plt.pie(x = counts, labels = jewelry_categories)\n",
    "\n",
    "plt.show(); plt.close()"
   ]
  },
  {
   "cell_type": "code",
   "execution_count": null,
   "id": "e080a4b7-dd20-46b9-9f4a-07891392d5e9",
   "metadata": {},
   "outputs": [],
   "source": [
    "#Category feature in countplot\n",
    "plt.figure(figsize = (15,8))\n",
    "\n",
    "sns.countplot(data = real_categories, x = \"Category\")\n",
    "\n",
    "plt.xlabel(\"Jewelry categories\")\n",
    "plt.ylabel(\"Category frequency\")\n",
    "\n",
    "plt.show(); plt.close()"
   ]
  },
  {
   "cell_type": "code",
   "execution_count": null,
   "id": "40d8781f-d8fc-43b4-9bb4-8374628e7ccb",
   "metadata": {},
   "outputs": [],
   "source": [
    "df.columns"
   ]
  },
  {
   "cell_type": "code",
   "execution_count": null,
   "id": "0c6d753c-2168-4f74-a04b-c2beb07a2511",
   "metadata": {},
   "outputs": [],
   "source": [
    "real_categories.head(3)"
   ]
  },
  {
   "cell_type": "markdown",
   "id": "f743a9fd-8835-4c89-9744-332373478bff",
   "metadata": {},
   "source": [
    "# Sales of Jewelry ring mainly  to the male. The business can develop other category of Jewel to the males as the chart above that the \n",
    "# female gender has more users in the different varieties of Jewelleries."
   ]
  },
  {
   "cell_type": "code",
   "execution_count": null,
   "id": "8340e076-c3a1-4204-b9a4-d41190b81b2d",
   "metadata": {},
   "outputs": [],
   "source": [
    "# Gender skew in original data\n",
    "df[\"Target_Gender\"].value_counts(normalize = True)"
   ]
  },
  {
   "cell_type": "code",
   "execution_count": null,
   "id": "f85f09d8-aaf5-4f7c-acc2-d369316ae1a1",
   "metadata": {},
   "outputs": [],
   "source": [
    "# Gender skew in original data\n",
    "real_categories[\"Target_Gender\"].value_counts(normalize = True)"
   ]
  },
  {
   "cell_type": "code",
   "execution_count": null,
   "id": "3f4782cb-fe49-4d51-b8c1-c53082238bec",
   "metadata": {},
   "outputs": [],
   "source": [
    "# Encoding Jewelry Categories- Category\n",
    "\n",
    "encoded, category_code = pd.factorize(real_categories[\"Category\"])\n",
    "real_categories.loc[:, \"Category\"] = encoded"
   ]
  },
  {
   "cell_type": "code",
   "execution_count": null,
   "id": "c0d9891b-99d3-4c98-83d3-94811c852a3f",
   "metadata": {},
   "outputs": [],
   "source": [
    "# Encoding Jewelry Categories- Target_Gender\n",
    "\n",
    "encoded, category_code = pd.factorize(real_categories[\"Target_Gender\"])\n",
    "real_categories.loc[:, \"Target_Gender\"] = encoded"
   ]
  },
  {
   "cell_type": "code",
   "execution_count": null,
   "id": "1c9d0c6d-f186-40d5-9e0b-a48ac94bc9ed",
   "metadata": {},
   "outputs": [],
   "source": [
    "# Encoding Jewelry Categories- Main_Gem\n",
    "\n",
    "encoded, category_code = pd.factorize(real_categories[\"Main_Gem\"])\n",
    "real_categories.loc[:, \"Main_Gem\"] = encoded"
   ]
  },
  {
   "cell_type": "code",
   "execution_count": null,
   "id": "1d7f49ab-c180-45cf-9e6f-b84f34d476d6",
   "metadata": {},
   "outputs": [],
   "source": [
    "# Encoding Jewelry Categories- Main_Color\n",
    "\n",
    "encoded, category_code = pd.factorize(real_categories[\"Main_Color\"])\n",
    "real_categories.loc[:, \"Main_Color\"] = encoded"
   ]
  },
  {
   "cell_type": "code",
   "execution_count": null,
   "id": "e0ced623-3309-4a27-b653-e7c0c0ef543b",
   "metadata": {},
   "outputs": [],
   "source": [
    "# Encoding Jewelry Categories- Main_Metal\n",
    "\n",
    "encoded, category_code = pd.factorize(real_categories[\"Main_Metal\"])\n",
    "real_categories.loc[:, \"Main_Metal\"] = encoded"
   ]
  },
  {
   "cell_type": "markdown",
   "id": "7cd2dac4-915a-490f-98f3-b5aef77d85b1",
   "metadata": {},
   "source": [
    "# Bivariate"
   ]
  },
  {
   "cell_type": "code",
   "execution_count": null,
   "id": "96a541af-e210-42e2-94bd-8063d6f64e02",
   "metadata": {},
   "outputs": [],
   "source": [
    "import matplotlib.pyplot as plt\n",
    "import seaborn as sns\n",
    "\n",
    "# Group by Category and calculate mean Price\n",
    "category_avg_price = df.groupby('Category')['Price_USD'].mean().sort_values(ascending=False)\n",
    "\n",
    "# Plot\n",
    "plt.figure(figsize=(10, 6))\n",
    "sns.barplot(x=category_avg_price.index, y=category_avg_price.values, palette='viridis')\n",
    "plt.title('Average Price per Jewelry Category')\n",
    "plt.ylabel('Average Price (USD)')\n",
    "plt.xlabel('Category')\n",
    "plt.xticks(rotation=45)\n",
    "plt.tight_layout()\n",
    "plt.show()\n"
   ]
  },
  {
   "cell_type": "code",
   "execution_count": null,
   "id": "0e77d41c-a6e6-4a72-b4ad-b1abcdcc8c6d",
   "metadata": {},
   "outputs": [],
   "source": [
    "# Average Price by Main_Metal\n",
    "\n",
    "plt.figure(figsize=(8, 5))\n",
    "sns.barplot(x='Main_Metal', y='Price_USD', data=df, estimator='mean', palette='coolwarm')\n",
    "plt.title('Average Price by Main Metal')\n",
    "plt.ylabel('Average Price (USD)')\n",
    "plt.xlabel('Main Metal')\n",
    "plt.xticks(rotation=45)\n",
    "plt.tight_layout()\n",
    "plt.show()"
   ]
  },
  {
   "cell_type": "code",
   "execution_count": null,
   "id": "c43fe890-9d7d-4e5f-aa06-218ee85ff3e9",
   "metadata": {},
   "outputs": [],
   "source": [
    "# Average Price by Target_Gender\n",
    "\n",
    "plt.figure(figsize=(6, 4))\n",
    "sns.barplot(x='Target_Gender', y='Price_USD', data=df, estimator='mean', palette='Set2')\n",
    "plt.title('Average Price by Target Gender')\n",
    "plt.ylabel('Average Price (USD)')\n",
    "plt.xlabel('Target Gender')\n",
    "plt.tight_layout()\n",
    "plt.show()"
   ]
  },
  {
   "cell_type": "code",
   "execution_count": null,
   "id": "a0e13a41-9ec7-47c2-b2e8-3662c980668f",
   "metadata": {},
   "outputs": [],
   "source": [
    "# Price_USD by Branch_ID\n",
    "\n",
    "plt.figure(figsize=(10, 5))\n",
    "sns.barplot(x='Branch_ID', y='Price_USD', data=df, estimator='mean', palette='magma')\n",
    "plt.title('Price_USD' by Branch')\n",
    "plt.ylabel('Price_USD')\n",
    "plt.xlabel('Branch ID')\n",
    "plt.xticks(rotation=45)\n",
    "plt.tight_layout()\n",
    "plt.show()\n"
   ]
  },
  {
   "cell_type": "code",
   "execution_count": null,
   "id": "48ad7066-4126-4b5f-855e-1bba5a5b873e",
   "metadata": {},
   "outputs": [],
   "source": [
    "#Bivariate Analysis\n",
    "\n",
    "plt.figure(figsize=(8,5))\n",
    "\n",
    "ax = sns.barplot(y=df[\"Target_Gender\"], order=df[\"Target_Gender\"].value_counts(ascending=False).index)\n",
    "values = df[\"Target_Gender\"].value_counts(ascending=False).values\n",
    "ax.bar_label(container=ax.containers[0], labels=values);"
   ]
  },
  {
   "cell_type": "code",
   "execution_count": null,
   "id": "42226f1d-b9d0-4126-a645-9ff940ccea18",
   "metadata": {},
   "outputs": [],
   "source": [
    "# Generate Correlation matrix\n",
    "# Spearman rank method-for calculating correlation that works best for categorical feature, for numeric feature use pearson co-efficient\n",
    "#Using spearman rank correlation co-efficient\n",
    "\n",
    "#correlations = real_categories.drop(labels = [\"Order_Datetime\", \"User_ID\", \"Order_ID\", \"Product_ID\"], axis = 1).corr(method = \"spearman\")"
   ]
  },
  {
   "cell_type": "markdown",
   "id": "fab839ef-5302-4635-831d-7e3509123f9d",
   "metadata": {},
   "source": [
    "# Summary of findings\n",
    "1. There are missing values in the dataset, can be fixed by inputting values\n",
    "2. Data corruption in jewelry category feature\n",
    "3. Rare values- column \"Target_Gender\" has the \"male\" with rare values which can be the reflection from the distribution of data.\n",
    "4. Low cardinality or feature invariance- The SKU_Quantity feature has only one unique value,no new information added.\n",
    "5. Target Skew- Target variable is right skewed, this can present issues during training of the dataset.\n",
    "6. Correlation-Target variable exhibits a low correlation with independent variable."
   ]
  },
  {
   "cell_type": "markdown",
   "id": "3d156c73-5b2d-4675-936a-be76c6ace5c0",
   "metadata": {},
   "source": [
    "# Data Preparation"
   ]
  },
  {
   "cell_type": "markdown",
   "id": "4c7a7d66-5293-4ab0-9305-e0fb2fb380cd",
   "metadata": {},
   "source": [
    "# Based on observation from the exploration of the dataset, the following will be done in the data preparation stage\n",
    "\n",
    "1.Missing value- replace missing value with mean or median\n",
    "2.Feature Encoding- Categorical value will be encoded\n",
    "3.Redundant feature will be eliminated, such as SKU_Quantity, Order_ID, Product_ID,Order_Datetime\n",
    "4.Target Skew- The target variable is strongly right-skewed- this can resolved by using the TransformedTargetRegressor\n",
    "\n",
    "Using Sci-kit learn;\n",
    "\n",
    "Summary steps in Data preparation;\n",
    "\n",
    "1.Eliminate features not required.\n",
    "2.Extra records in actual categories\n",
    "3.Encode categorical features (if required)\n",
    "4.Account for target skew\n",
    "5.fix missing values\n"
   ]
  },
  {
   "cell_type": "code",
   "execution_count": null,
   "id": "fe4de077-4622-4615-89a0-86a7ec4a7c68",
   "metadata": {},
   "outputs": [],
   "source": [
    "df.columns"
   ]
  },
  {
   "cell_type": "code",
   "execution_count": null,
   "id": "8c080d50-7ead-4692-b876-54b0ae9d0c71",
   "metadata": {},
   "outputs": [],
   "source": [
    "# Columns to eliminate\n",
    "columns_to_eliminate = [\n",
    "    \"Sku_Quantity\",\n",
    "    \"Order_ID\",\n",
    "    \"Product_ID\",\n",
    "    \"User_ID\",\n",
    "    \"Category_ID\",\n",
    "    \"Order_Datetime\"\n",
    "]"
   ]
  },
  {
   "cell_type": "code",
   "execution_count": null,
   "id": "ada7edd3-63cd-41a7-b6d6-bda368c9146e",
   "metadata": {},
   "outputs": [],
   "source": [
    "#Eliminate unused features\n",
    "df.drop(labels = columns_to_eliminate, axis = 1,inplace = True)"
   ]
  },
  {
   "cell_type": "code",
   "execution_count": null,
   "id": "8001cd2d-64ed-4c8a-ab9a-284c36f09278",
   "metadata": {},
   "outputs": [],
   "source": [
    "df.head(5)"
   ]
  },
  {
   "cell_type": "code",
   "execution_count": null,
   "id": "ed4a7a71-f649-4dbc-baee-acc0429568eb",
   "metadata": {},
   "outputs": [],
   "source": [
    "#Eliminate unrealistic categories - rows corrup"
   ]
  },
  {
   "cell_type": "code",
   "execution_count": null,
   "id": "22c5a6f4-e091-4dae-beea-73aaa8e39d1a",
   "metadata": {},
   "outputs": [],
   "source": [
    "import pandas as pd\n",
    "from sklearn.preprocessing import LabelEncoder\n",
    "\n",
    "\n",
    "# Automatically identify categorical columns (text columns)\n",
    "categorical_cols = df.select_dtypes(include=['object']).columns\n",
    "\n",
    "# Initialize the label encoder\n",
    "label_encoder = LabelEncoder()\n",
    "\n",
    "# Apply Label Encoding to all categorical columns\n",
    "for col in categorical_cols:\n",
    "    df[col] = label_encoder.fit_transform(df[col].astype(str))\n",
    "\n",
    "\n",
    "\n"
   ]
  },
  {
   "cell_type": "code",
   "execution_count": null,
   "id": "1ec150f6-3016-492f-a250-5808379f91b7",
   "metadata": {},
   "outputs": [],
   "source": [
    "# Data Preprocessing and Machine learning"
   ]
  },
  {
   "cell_type": "code",
   "execution_count": null,
   "id": "8481a20c-3553-4667-a104-1e380608d099",
   "metadata": {},
   "outputs": [],
   "source": [
    "# Drop Target column (Price_USD)\n",
    "#df = df.drop('Price_USD', axis=1)"
   ]
  },
  {
   "cell_type": "markdown",
   "id": "8c9e6359-5d6e-48ff-84de-1a5f667fefc2",
   "metadata": {},
   "source": [
    "# Split Data into Training and Testing Sets"
   ]
  },
  {
   "cell_type": "code",
   "execution_count": null,
   "id": "9ebeb1a1-c994-4c7a-9a9d-8bd00a9f34ae",
   "metadata": {},
   "outputs": [],
   "source": [
    "from sklearn.preprocessing import StandardScaler\n",
    "from sklearn.model_selection import train_test_split\n",
    "from sklearn.preprocessing import LabelEncoder"
   ]
  },
  {
   "cell_type": "code",
   "execution_count": null,
   "id": "3e931305-fcff-42a8-93ce-5ee280f944fb",
   "metadata": {},
   "outputs": [],
   "source": [
    "df1 = df[['Category', 'Branch_ID','Target_Gender', 'Main_Color', 'Main_Metal', 'Main_Gem']]\n",
    "\n",
    "label = df[['Price_USD']]\n",
    "\n",
    "X = [[df1]]\n",
    "y = [[label]]"
   ]
  },
  {
   "cell_type": "code",
   "execution_count": null,
   "id": "90979887-7dd8-4b94-b627-ef67503d2d4e",
   "metadata": {},
   "outputs": [],
   "source": [
    "# Split into training and testing sets (80% train, 20% test)\n",
    "X_train, X_test, y_train, y_test = train_test_split(X, y, test_size=0.2, random_state=42)"
   ]
  },
  {
   "cell_type": "code",
   "execution_count": null,
   "id": "b6c3346f-7ef1-4184-a955-927fb29b3a37",
   "metadata": {},
   "outputs": [],
   "source": [
    "df1.dtypes"
   ]
  },
  {
   "cell_type": "code",
   "execution_count": null,
   "id": "d62c326a-7620-47b4-8d2d-c45566924b21",
   "metadata": {},
   "outputs": [],
   "source": [
    "# dealing with outliers-\n",
    "\n",
    "# Normalize the data\n",
    "#scaler = MinMaxScaler()\n",
    "\n",
    "#df1[\"Price_USD\"] = scaler.fit_transform(df1['Price_USD'].values.reshape(-1, 1))"
   ]
  },
  {
   "cell_type": "code",
   "execution_count": null,
   "id": "660ebe4a-40ae-4206-9db3-2e5165ad1037",
   "metadata": {},
   "outputs": [],
   "source": [
    "X_train"
   ]
  },
  {
   "cell_type": "markdown",
   "id": "f15963bd-eae4-4c0a-854c-fb1a6956e9bc",
   "metadata": {},
   "source": [
    "# Data Modelling"
   ]
  },
  {
   "cell_type": "markdown",
   "id": "3b869fa3-9f7d-43eb-88a6-ecf9a084c6a1",
   "metadata": {},
   "source": [
    "\n",
    "1.Linear Regression\n",
    "2.Random Forest \n"
   ]
  },
  {
   "cell_type": "markdown",
   "id": "3e2a8719-cc0c-49fd-955d-e790fed3d53b",
   "metadata": {},
   "source": [
    "# Summary Steps\n",
    "1.Encode Categorical features-if required\n",
    "2.Account for target skew\n",
    "3.Fix missing values"
   ]
  },
  {
   "cell_type": "code",
   "execution_count": null,
   "id": "e9f45c92-1bed-464d-a5f3-d2ab46742c3d",
   "metadata": {},
   "outputs": [],
   "source": [
    "from sklearn.preprocessing import OrdinalEncoder, LabelEncoder, OneHotEncoder\n",
    "from sklearn.linear_model import LinearRegression\n"
   ]
  },
  {
   "cell_type": "code",
   "execution_count": null,
   "id": "ebaa835c-d078-4107-8201-7579c3106e3c",
   "metadata": {},
   "outputs": [],
   "source": [
    "\n",
    "\n",
    "# Train-test split\n",
    "X_train, X_test, y_train, y_test = train_test_split(df1, label, test_size=0.2, random_state=42)\n",
    "\n",
    "# Linear Regression model\n",
    "lin_model = LinearRegression()\n",
    "lin_model.fit(X_train, y_train)\n",
    "\n",
    "# Predictions and performance\n",
    "y_pred = lin_model.predict(X_test)\n",
    "print(\"Linear Regression RMSE:\", mean_squared_error(y_test, y_pred, squared=False))\n"
   ]
  },
  {
   "cell_type": "code",
   "execution_count": null,
   "id": "a4e01ca5-6dd2-4bc0-8274-bd018eb36968",
   "metadata": {},
   "outputs": [],
   "source": [
    "df.dtypes"
   ]
  },
  {
   "cell_type": "code",
   "execution_count": null,
   "id": "d3bf656e-d4f2-46ce-8139-d8b75b22159e",
   "metadata": {},
   "outputs": [],
   "source": [
    "from sklearn.preprocessing import StandardScaler\n",
    "\n",
    "# Initialize the scaler\n",
    "scaler = StandardScaler()\n",
    "\n",
    "# Fit only on the training data and transform both train & test\n",
    "X_train = scaler.fit_transform(X_train)\n",
    "X_test = scaler.transform(X_test)\n",
    "\n",
    "# Display the transformed data shape\n",
    "print(\"X_train shape:\", X_train.shape)\n",
    "print(\"X_test shape:\", X_test.shape)"
   ]
  },
  {
   "cell_type": "code",
   "execution_count": null,
   "id": "46bd4fd2-fba4-4416-afef-e8f4d1688ce9",
   "metadata": {},
   "outputs": [],
   "source": [
    "# Model Building\n",
    "\n",
    "# Logistic Regression\n",
    "\n",
    "logreg = LogisticRegression()\n",
    "\n",
    "logreg.fit(X_train, y_train)\n",
    "\n",
    "ly_pred = logreg.predict(X_test)\n",
    "\n",
    "print(\"Logistic Regression\")\n",
    "print(\"Accuracy:\", accuracy_score(y_test, ly_pred))\n",
    "print(\"Precision:\", precision_score(y_test, ly_pred))\n",
    "print(\"Recall:\", recall_score(y_test, ly_pred))\n",
    "print(\"F1-score:\", f1_score(y_test, ly_pred))\n",
    "print(\"AUC-ROC:\", roc_auc_score(y_test, ly_pred))"
   ]
  },
  {
   "cell_type": "code",
   "execution_count": null,
   "id": "2f5440dc-4627-4728-af2b-1854a74a7c05",
   "metadata": {},
   "outputs": [],
   "source": [
    "from sklearn.ensemble import RandomForestClassifier\n",
    "model = RandomForestClassifier(n_estimators=100, random_state=42)\n",
    "model.fit(X_train, y_train)\n",
    "y_pred = model.predict(X_test)\n",
    "\n",
    "print(\"RandomForestClassifier\")\n",
    "print(\"Accuracy:\", accuracy_score(y_test, ly_pred))\n",
    "print(\"Precision:\", precision_score(y_test, ly_pred))\n",
    "print(\"Recall:\", recall_score(y_test, ly_pred))\n",
    "print(\"F1-score:\", f1_score(y_test, ly_pred))\n",
    "print(\"AUC-ROC:\", roc_auc_score(y_test, ly_pred))"
   ]
  },
  {
   "cell_type": "markdown",
   "id": "78d7f158-51d8-4a41-909d-e2998420be64",
   "metadata": {},
   "source": [
    "# Model Evaluation"
   ]
  },
  {
   "cell_type": "code",
   "execution_count": null,
   "id": "6d287618-9da5-4326-81e1-3d98a6b2cca8",
   "metadata": {},
   "outputs": [],
   "source": [
    "#from sklearn.metrics import r2_score, mean_squared_error"
   ]
  },
  {
   "cell_type": "code",
   "execution_count": null,
   "id": "5143b0de-b469-4515-97ce-55afb58ebd2d",
   "metadata": {},
   "outputs": [],
   "source": [
    "#def root_mean_square_error(y_true, y_pred):\n",
    "    #value = mean_squared_error(y_true, y_pred)\n",
    "    #return np.sqrt(value)"
   ]
  },
  {
   "cell_type": "code",
   "execution_count": null,
   "id": "f4645d20-5da8-49c4-83cf-935f1552b4c2",
   "metadata": {},
   "outputs": [],
   "source": [
    "#def generate_model_score(model, data, metric_function):\n",
    "    #X, y = data\n",
    "    #y_= model.predict(X)\n",
    "    #score = metric_function(y, y_)\n",
    "    #return score"
   ]
  },
  {
   "cell_type": "code",
   "execution_count": null,
   "id": "c0d0208d-c815-4f47-93ea-d41db8a28a97",
   "metadata": {},
   "outputs": [],
   "source": [
    "#def print_metrics(metric_name, train_score, test_score):\n",
    "   # print(f\"Train {metric_name} = {train_score}\")\n",
    "    #print(f\"Test {metric_name} = {test_score}\")\n",
    "    #print(f\"Generalization error {train_score - test_score}\")\n",
    "\n",
    "    #return\n",
    "    "
   ]
  },
  {
   "cell_type": "code",
   "execution_count": null,
   "id": "234c370b-0bdf-4ed3-bbcc-5642c0c2d11b",
   "metadata": {},
   "outputs": [],
   "source": [
    "# Expand Train and Test\n",
    "#def test_model(model, data, metric_name, metric_function):\n",
    "    #train, test = data\n",
    "\n",
    "    #if isins"
   ]
  },
  {
   "cell_type": "code",
   "execution_count": null,
   "id": "b4a4f158-aac3-4d4f-a3f1-d17b12951b19",
   "metadata": {},
   "outputs": [],
   "source": [
    "#mse = mean_squared_error(y_test, y_pred)\n",
    "#rmse = np.sqrt(mse)\n",
    "#mae = mean_absolute_error(y_test, y_pred)\n",
    "#r2 = r2_score(y_test, y_pred)\n",
    "\n",
    "#print(\"Model Evaluation Metrics:\")\n",
    "#print(f\"R2 Score: {r2:.4f}\")\n",
    "#print(f\"Mean Absolute Error (MAE): {mae:.4f}\")\n",
    "#print(f\"Root Mean Squared Error (RMSE): {rmse:.4f}\")\n"
   ]
  },
  {
   "cell_type": "code",
   "execution_count": null,
   "id": "f3655510-3b23-46bb-aa71-d981f5b9ce8c",
   "metadata": {},
   "outputs": [],
   "source": [
    "#plt.figure(figsize=(8, 6))\n",
    "#plt.scatter(y_test, y_pred, alpha=0.7, color='blue')\n",
    "#plt.plot([y_test.min(), y_test.max()], [y_test.min(), y_test.max()], '--r')\n",
    "#plt.xlabel('Actual Values')\n",
    "#plt.ylabel('Predicted Values')\n",
    "#plt.title('CatBoost Predictions vs Actuals')\n",
    "#plt.grid(True)\n",
    "#plt.tight_layout()\n",
    "#plt.show()\n"
   ]
  },
  {
   "cell_type": "code",
   "execution_count": null,
   "id": "06f637db-42e1-41f8-98cb-60cb1c15ad19",
   "metadata": {},
   "outputs": [],
   "source": [
    "#from sklearn.ensemble import RandomForestRegressor\n",
    "\n",
    "#rf = RandomForestRegressor(random_state=42)\n",
    "#rf.fit(X_train, y_train)\n",
    "#y_pred_rf = rf.predict(X_test)\n",
    "#print(\"Random Forest MSE:\", mean_squared_error(y_test, y_pred_rf))\n"
   ]
  },
  {
   "cell_type": "code",
   "execution_count": null,
   "id": "5accb5d1-b68a-4bd3-b709-c83627971ebe",
   "metadata": {},
   "outputs": [],
   "source": [
    "from sklearn.ensemble import RandomForestClassifier\n",
    "model = RandomForestClassifier(n_estimators=100, random_state=42)\n",
    "model.fit(X_train, y_train)\n",
    "y_pred = model.predict(X_test)\n",
    "\n",
    "print(\"RandomForestClassifier\")\n",
    "print(\"Accuracy:\", accuracy_score(y_test, ly_pred))\n",
    "print(\"Precision:\", precision_score(y_test, ly_pred))\n",
    "print(\"Recall:\", recall_score(y_test, ly_pred))\n",
    "print(\"F1-score:\", f1_score(y_test, ly_pred))\n",
    "print(\"AUC-ROC:\", roc_auc_score(y_test, ly_pred))"
   ]
  },
  {
   "cell_type": "code",
   "execution_count": null,
   "id": "8d26bf2a-40e3-4ce4-90f5-b041ec538c65",
   "metadata": {},
   "outputs": [],
   "source": [
    "# Train and Evaluate the Models\n",
    "from sklearn.linear_model import LogisticRegression\n",
    "from sklearn.ensemble import RandomForestClassifier\n",
    "from sklearn.metrics import accuracy_score, precision_score, recall_score, f1_score, roc_auc_score\n",
    "\n",
    "# Initialize models\n",
    "log_reg = LogisticRegression()\n",
    "rf = RandomForestClassifier(n_estimators=100, random_state=42)\n",
    "\n",
    "\n",
    "# Train models\n",
    "models = {'Logistic Regression': log_reg, 'Random Forest': rf}\n",
    "for name, model in models.items():\n",
    "    model.fit(X_train, y_train)\n",
    "    y_pred = model.predict(X_test)\n",
    "    y_pred_proba = model.predict_proba(X_test)[:, 1]  # Probabilities for AUC-ROC\n",
    "\n",
    "    # Compute metrics\n",
    "    accuracy = accuracy_score(y_test, y_pred)\n",
    "    precision = precision_score(y_test, y_pred)\n",
    "    recall = recall_score(y_test, y_pred)\n",
    "    f1 = f1_score(y_test, y_pred)\n",
    "    auc_roc = roc_auc_score(y_test, y_pred_proba)\n",
    "\n",
    "    # Print results\n",
    "    print(f\"🔹 {name} Performance Metrics:\")\n",
    "    print(f\"   - Accuracy: {accuracy:.2f}\")\n",
    "    print(f\"   - Precision: {precision:.2f}\")\n",
    "    print(f\"   - Recall: {recall:.2f}\")\n",
    "    print(f\"   - F1-score: {f1:.2f}\")\n",
    "    print(f\"   - AUC-ROC: {auc_roc:.2f}\")\n",
    "    print(\"-\" * 40)\n"
   ]
  },
  {
   "cell_type": "code",
   "execution_count": null,
   "id": "d769bc94-9fc8-4249-97f2-63397cde6528",
   "metadata": {},
   "outputs": [],
   "source": []
  }
 ],
 "metadata": {
  "kernelspec": {
   "display_name": "Python 3 (ipykernel)",
   "language": "python",
   "name": "python3"
  },
  "language_info": {
   "codemirror_mode": {
    "name": "ipython",
    "version": 3
   },
   "file_extension": ".py",
   "mimetype": "text/x-python",
   "name": "python",
   "nbconvert_exporter": "python",
   "pygments_lexer": "ipython3",
   "version": "3.11.7"
  }
 },
 "nbformat": 4,
 "nbformat_minor": 5
}
