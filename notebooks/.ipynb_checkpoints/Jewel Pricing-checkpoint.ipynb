{
 "cells": [
  {
   "cell_type": "code",
   "execution_count": 71,
   "id": "f0d2c88b-234a-4183-8709-b2469576e62a",
   "metadata": {},
   "outputs": [
    {
     "name": "stdout",
     "output_type": "stream",
     "text": [
      "Requirement already satisfied: xgboost in c:\\users\\admin\\anaconda3\\lib\\site-packages (2.1.3)\n",
      "Requirement already satisfied: numpy in c:\\users\\admin\\anaconda3\\lib\\site-packages (from xgboost) (1.26.4)\n",
      "Requirement already satisfied: scipy in c:\\users\\admin\\anaconda3\\lib\\site-packages (from xgboost) (1.11.4)\n"
     ]
    }
   ],
   "source": [
    "#import necessary libraries\n",
    "\n",
    "#For Data Analysis\n",
    "import pandas as pd\n",
    "import numpy as np\n",
    "\n",
    "#for Data Visualization\n",
    "import matplotlib.pyplot as plt\n",
    "import seaborn as sns\n",
    "\n",
    "#For Data pre-processing\n",
    "from sklearn.model_selection import train_test_split\n",
    "from sklearn.preprocessing import MinMaxScaler\n",
    "\n",
    "# Classifier libraries\n",
    "from sklearn.ensemble import RandomForestClassifier\n",
    "from sklearn.linear_model import LogisticRegression\n",
    "!pip install xgboost\n",
    "from xgboost import XGBClassifier\n",
    "from sklearn.tree import DecisionTreeClassifier\n",
    "\n",
    "#Evaluation metrics\n",
    "from sklearn.metrics import accuracy_score, precision_score, recall_score, f1_score, roc_auc_score\n",
    "from sklearn.metrics import confusion_matrix\n",
    "\n",
    "import warnings\n",
    "warnings.filterwarnings(\"ignore\")\n",
    "import missingno as msno\n",
    "\n",
    "#set visualization theme\n",
    "sns.set()"
   ]
  },
  {
   "cell_type": "code",
   "execution_count": 75,
   "id": "6158c082-1866-4971-805d-6c88d027355a",
   "metadata": {},
   "outputs": [],
   "source": [
    "#import data set\n",
    "df = pd.read_csv(\"../data/Jewelry_Dataset.csv\")\n",
    "\n"
   ]
  },
  {
   "cell_type": "code",
   "execution_count": 77,
   "id": "a8d07d0c-2442-43ed-aefd-3971b687eabf",
   "metadata": {},
   "outputs": [
    {
     "data": {
      "text/html": [
       "<div>\n",
       "<style scoped>\n",
       "    .dataframe tbody tr th:only-of-type {\n",
       "        vertical-align: middle;\n",
       "    }\n",
       "\n",
       "    .dataframe tbody tr th {\n",
       "        vertical-align: top;\n",
       "    }\n",
       "\n",
       "    .dataframe thead th {\n",
       "        text-align: right;\n",
       "    }\n",
       "</style>\n",
       "<table border=\"1\" class=\"dataframe\">\n",
       "  <thead>\n",
       "    <tr style=\"text-align: right;\">\n",
       "      <th></th>\n",
       "      <th>2018-12-01 11:40:29 UTC</th>\n",
       "      <th>1924719191579951782</th>\n",
       "      <th>1842195256808833386</th>\n",
       "      <th>1</th>\n",
       "      <th>1806829201890738522</th>\n",
       "      <th>jewelry.earring</th>\n",
       "      <th>0</th>\n",
       "      <th>561.51</th>\n",
       "      <th>1515915625207851155</th>\n",
       "      <th>Unnamed: 9</th>\n",
       "      <th>red</th>\n",
       "      <th>gold</th>\n",
       "      <th>diamond</th>\n",
       "    </tr>\n",
       "  </thead>\n",
       "  <tbody>\n",
       "    <tr>\n",
       "      <th>0</th>\n",
       "      <td>2018-12-01 17:38:31 UTC</td>\n",
       "      <td>1924899396621697920</td>\n",
       "      <td>1806829193678291446</td>\n",
       "      <td>1</td>\n",
       "      <td>1.806829e+18</td>\n",
       "      <td>NaN</td>\n",
       "      <td>NaN</td>\n",
       "      <td>212.14</td>\n",
       "      <td>1.515916e+18</td>\n",
       "      <td>NaN</td>\n",
       "      <td>yellow</td>\n",
       "      <td>gold</td>\n",
       "      <td>NaN</td>\n",
       "    </tr>\n",
       "    <tr>\n",
       "      <th>1</th>\n",
       "      <td>2018-12-02 13:53:42 UTC</td>\n",
       "      <td>1925511016616034733</td>\n",
       "      <td>1842214461889315556</td>\n",
       "      <td>1</td>\n",
       "      <td>1.806829e+18</td>\n",
       "      <td>jewelry.pendant</td>\n",
       "      <td>1.0</td>\n",
       "      <td>54.66</td>\n",
       "      <td>1.515916e+18</td>\n",
       "      <td>f</td>\n",
       "      <td>white</td>\n",
       "      <td>gold</td>\n",
       "      <td>sapphire</td>\n",
       "    </tr>\n",
       "    <tr>\n",
       "      <th>2</th>\n",
       "      <td>2018-12-02 17:44:02 UTC</td>\n",
       "      <td>1925626951238681511</td>\n",
       "      <td>1835566849434059453</td>\n",
       "      <td>1</td>\n",
       "      <td>1.806829e+18</td>\n",
       "      <td>jewelry.pendant</td>\n",
       "      <td>0.0</td>\n",
       "      <td>88.90</td>\n",
       "      <td>1.515916e+18</td>\n",
       "      <td>f</td>\n",
       "      <td>red</td>\n",
       "      <td>gold</td>\n",
       "      <td>diamond</td>\n",
       "    </tr>\n",
       "  </tbody>\n",
       "</table>\n",
       "</div>"
      ],
      "text/plain": [
       "   2018-12-01 11:40:29 UTC  1924719191579951782  1842195256808833386  1  \\\n",
       "0  2018-12-01 17:38:31 UTC  1924899396621697920  1806829193678291446  1   \n",
       "1  2018-12-02 13:53:42 UTC  1925511016616034733  1842214461889315556  1   \n",
       "2  2018-12-02 17:44:02 UTC  1925626951238681511  1835566849434059453  1   \n",
       "\n",
       "   1806829201890738522  jewelry.earring    0  561.51  1515915625207851155  \\\n",
       "0         1.806829e+18              NaN  NaN  212.14         1.515916e+18   \n",
       "1         1.806829e+18  jewelry.pendant  1.0   54.66         1.515916e+18   \n",
       "2         1.806829e+18  jewelry.pendant  0.0   88.90         1.515916e+18   \n",
       "\n",
       "  Unnamed: 9     red  gold   diamond  \n",
       "0        NaN  yellow  gold       NaN  \n",
       "1          f   white  gold  sapphire  \n",
       "2          f     red  gold   diamond  "
      ]
     },
     "execution_count": 77,
     "metadata": {},
     "output_type": "execute_result"
    }
   ],
   "source": [
    "df.head(3)"
   ]
  },
  {
   "cell_type": "code",
   "execution_count": 79,
   "id": "5e113736-9b4e-4208-8a2b-2e910c50b697",
   "metadata": {},
   "outputs": [],
   "source": [
    "#structure the columns\n",
    "df.columns = [\n",
    "    \"Order_Datetime\",\n",
    "    \"Order_id\",\n",
    "    \"Product_id\",\n",
    "    \"SKU_Quantity\",\n",
    "    \"Category_ID\",\n",
    "    \"Category\",\n",
    "    \"Brand_ID\",\n",
    "    \"Price_USD\",\n",
    "    \"User_ID\",\n",
    "    \"Target_Gender\",\n",
    "    \"Main_Color\",\n",
    "    \"Main_Metal\",\n",
    "    \"Main_Gem\",\n",
    "]"
   ]
  },
  {
   "cell_type": "code",
   "execution_count": 81,
   "id": "32b2a125-d8dc-4e24-801a-5ca46450b585",
   "metadata": {},
   "outputs": [
    {
     "data": {
      "text/html": [
       "<div>\n",
       "<style scoped>\n",
       "    .dataframe tbody tr th:only-of-type {\n",
       "        vertical-align: middle;\n",
       "    }\n",
       "\n",
       "    .dataframe tbody tr th {\n",
       "        vertical-align: top;\n",
       "    }\n",
       "\n",
       "    .dataframe thead th {\n",
       "        text-align: right;\n",
       "    }\n",
       "</style>\n",
       "<table border=\"1\" class=\"dataframe\">\n",
       "  <thead>\n",
       "    <tr style=\"text-align: right;\">\n",
       "      <th></th>\n",
       "      <th>Order_Datetime</th>\n",
       "      <th>Order_id</th>\n",
       "      <th>Product_id</th>\n",
       "      <th>SKU_Quantity</th>\n",
       "      <th>Category_ID</th>\n",
       "      <th>Category</th>\n",
       "      <th>Brand_ID</th>\n",
       "      <th>Price_USD</th>\n",
       "      <th>User_ID</th>\n",
       "      <th>Target_Gender</th>\n",
       "      <th>Main_Color</th>\n",
       "      <th>Main_Metal</th>\n",
       "      <th>Main_Gem</th>\n",
       "    </tr>\n",
       "  </thead>\n",
       "  <tbody>\n",
       "    <tr>\n",
       "      <th>0</th>\n",
       "      <td>2018-12-01 17:38:31 UTC</td>\n",
       "      <td>1924899396621697920</td>\n",
       "      <td>1806829193678291446</td>\n",
       "      <td>1</td>\n",
       "      <td>1.806829e+18</td>\n",
       "      <td>NaN</td>\n",
       "      <td>NaN</td>\n",
       "      <td>212.14</td>\n",
       "      <td>1.515916e+18</td>\n",
       "      <td>NaN</td>\n",
       "      <td>yellow</td>\n",
       "      <td>gold</td>\n",
       "      <td>NaN</td>\n",
       "    </tr>\n",
       "    <tr>\n",
       "      <th>1</th>\n",
       "      <td>2018-12-02 13:53:42 UTC</td>\n",
       "      <td>1925511016616034733</td>\n",
       "      <td>1842214461889315556</td>\n",
       "      <td>1</td>\n",
       "      <td>1.806829e+18</td>\n",
       "      <td>jewelry.pendant</td>\n",
       "      <td>1.0</td>\n",
       "      <td>54.66</td>\n",
       "      <td>1.515916e+18</td>\n",
       "      <td>f</td>\n",
       "      <td>white</td>\n",
       "      <td>gold</td>\n",
       "      <td>sapphire</td>\n",
       "    </tr>\n",
       "    <tr>\n",
       "      <th>2</th>\n",
       "      <td>2018-12-02 17:44:02 UTC</td>\n",
       "      <td>1925626951238681511</td>\n",
       "      <td>1835566849434059453</td>\n",
       "      <td>1</td>\n",
       "      <td>1.806829e+18</td>\n",
       "      <td>jewelry.pendant</td>\n",
       "      <td>0.0</td>\n",
       "      <td>88.90</td>\n",
       "      <td>1.515916e+18</td>\n",
       "      <td>f</td>\n",
       "      <td>red</td>\n",
       "      <td>gold</td>\n",
       "      <td>diamond</td>\n",
       "    </tr>\n",
       "    <tr>\n",
       "      <th>3</th>\n",
       "      <td>2018-12-02 21:30:19 UTC</td>\n",
       "      <td>1925740842841014667</td>\n",
       "      <td>1873936840742928865</td>\n",
       "      <td>1</td>\n",
       "      <td>1.806829e+18</td>\n",
       "      <td>jewelry.necklace</td>\n",
       "      <td>0.0</td>\n",
       "      <td>417.67</td>\n",
       "      <td>1.515916e+18</td>\n",
       "      <td>NaN</td>\n",
       "      <td>red</td>\n",
       "      <td>gold</td>\n",
       "      <td>amethyst</td>\n",
       "    </tr>\n",
       "    <tr>\n",
       "      <th>4</th>\n",
       "      <td>2018-12-02 22:09:34 UTC</td>\n",
       "      <td>1925760595336888995</td>\n",
       "      <td>1835566854827934449</td>\n",
       "      <td>1</td>\n",
       "      <td>1.806829e+18</td>\n",
       "      <td>jewelry.earring</td>\n",
       "      <td>1.0</td>\n",
       "      <td>102.27</td>\n",
       "      <td>1.515916e+18</td>\n",
       "      <td>NaN</td>\n",
       "      <td>red</td>\n",
       "      <td>gold</td>\n",
       "      <td>NaN</td>\n",
       "    </tr>\n",
       "  </tbody>\n",
       "</table>\n",
       "</div>"
      ],
      "text/plain": [
       "            Order_Datetime             Order_id           Product_id  \\\n",
       "0  2018-12-01 17:38:31 UTC  1924899396621697920  1806829193678291446   \n",
       "1  2018-12-02 13:53:42 UTC  1925511016616034733  1842214461889315556   \n",
       "2  2018-12-02 17:44:02 UTC  1925626951238681511  1835566849434059453   \n",
       "3  2018-12-02 21:30:19 UTC  1925740842841014667  1873936840742928865   \n",
       "4  2018-12-02 22:09:34 UTC  1925760595336888995  1835566854827934449   \n",
       "\n",
       "   SKU_Quantity   Category_ID          Category  Brand_ID  Price_USD  \\\n",
       "0             1  1.806829e+18               NaN       NaN     212.14   \n",
       "1             1  1.806829e+18   jewelry.pendant       1.0      54.66   \n",
       "2             1  1.806829e+18   jewelry.pendant       0.0      88.90   \n",
       "3             1  1.806829e+18  jewelry.necklace       0.0     417.67   \n",
       "4             1  1.806829e+18   jewelry.earring       1.0     102.27   \n",
       "\n",
       "        User_ID Target_Gender Main_Color Main_Metal  Main_Gem  \n",
       "0  1.515916e+18           NaN     yellow       gold       NaN  \n",
       "1  1.515916e+18             f      white       gold  sapphire  \n",
       "2  1.515916e+18             f        red       gold   diamond  \n",
       "3  1.515916e+18           NaN        red       gold  amethyst  \n",
       "4  1.515916e+18           NaN        red       gold       NaN  "
      ]
     },
     "execution_count": 81,
     "metadata": {},
     "output_type": "execute_result"
    }
   ],
   "source": [
    "#View data\n",
    "df.head(5)\n"
   ]
  },
  {
   "cell_type": "code",
   "execution_count": 83,
   "id": "60a3a25e-79b4-4162-955c-583f26c65b33",
   "metadata": {},
   "outputs": [
    {
     "data": {
      "text/plain": [
       "Index(['Order_Datetime', 'Order_id', 'Product_id', 'SKU_Quantity',\n",
       "       'Category_ID', 'Category', 'Brand_ID', 'Price_USD', 'User_ID',\n",
       "       'Target_Gender', 'Main_Color', 'Main_Metal', 'Main_Gem'],\n",
       "      dtype='object')"
      ]
     },
     "execution_count": 83,
     "metadata": {},
     "output_type": "execute_result"
    }
   ],
   "source": [
    "df.columns"
   ]
  },
  {
   "cell_type": "code",
   "execution_count": 85,
   "id": "463d4eae-2eba-4ca0-b1ec-5845f288f7cd",
   "metadata": {},
   "outputs": [
    {
     "name": "stdout",
     "output_type": "stream",
     "text": [
      "Index(['Order_Datetime', 'Order_Id', 'Product_Id', 'Sku_Quantity',\n",
      "       'Category_Id', 'Category', 'Brand_Id', 'Price_Usd', 'User_Id',\n",
      "       'Target_Gender', 'Main_Color', 'Main_Metal', 'Main_Gem'],\n",
      "      dtype='object')\n"
     ]
    }
   ],
   "source": [
    "# Strip spaces and standardize capitalization and underscores\n",
    "df.columns = [col.strip().replace(\" \", \"_\").replace(\"-\", \"_\").title() for col in df.columns]\n",
    "\n",
    "# Display cleaned column names\n",
    "print(df.columns)"
   ]
  },
  {
   "cell_type": "code",
   "execution_count": 89,
   "id": "93154f03-c33a-4ef3-99df-6ba0f087ee97",
   "metadata": {},
   "outputs": [],
   "source": [
    "# Rename 'Order_Id' to 'Order_ID'\n",
    "df.rename(columns={'Order_Id': 'Order_ID'}, inplace=True)"
   ]
  },
  {
   "cell_type": "code",
   "execution_count": 91,
   "id": "a42c1e6d-22d9-4bde-b4ae-521979e84694",
   "metadata": {},
   "outputs": [],
   "source": [
    "# Rename 'Product_Id' to 'Product_ID'\n",
    "df.rename(columns={'Product_Id': 'Product_ID'}, inplace=True)"
   ]
  },
  {
   "cell_type": "code",
   "execution_count": 93,
   "id": "e7341a59-f638-4d1f-9bc0-f1dae980563b",
   "metadata": {},
   "outputs": [],
   "source": [
    "# Rename 'Category_Id' to 'Category_ID'\n",
    "df.rename(columns={'Category_Id': 'Category_ID'}, inplace=True)"
   ]
  },
  {
   "cell_type": "code",
   "execution_count": 95,
   "id": "63736a62-1ccb-40f1-859b-26d256c0ad8c",
   "metadata": {},
   "outputs": [],
   "source": [
    "# Rename 'Brand_Id' to 'Branch_ID'\n",
    "df.rename(columns={'Brand_Id': 'Branch_ID'}, inplace=True)"
   ]
  },
  {
   "cell_type": "code",
   "execution_count": 97,
   "id": "70d05332-6f37-4d46-8163-3a335bc04162",
   "metadata": {},
   "outputs": [],
   "source": [
    "# Rename 'Price_Usd' to 'Price_USD'\n",
    "df.rename(columns={'Price_Usd': 'Price_USD'}, inplace=True)"
   ]
  },
  {
   "cell_type": "code",
   "execution_count": 99,
   "id": "9da63069-ae0e-4308-9cf9-aca10ca1c6f0",
   "metadata": {},
   "outputs": [],
   "source": [
    "# Rename 'User_Id' to 'User_ID'\n",
    "df.rename(columns={'User_Id': 'User_ID'}, inplace=True)"
   ]
  },
  {
   "cell_type": "code",
   "execution_count": 101,
   "id": "aa00b0b8-71b6-4304-85b1-25ea676afd87",
   "metadata": {},
   "outputs": [
    {
     "data": {
      "text/plain": [
       "(95910, 13)"
      ]
     },
     "execution_count": 101,
     "metadata": {},
     "output_type": "execute_result"
    }
   ],
   "source": [
    "df.shape"
   ]
  },
  {
   "cell_type": "code",
   "execution_count": 103,
   "id": "7ea2cbb3-1e88-45ef-bed6-dfeceb87d2cf",
   "metadata": {},
   "outputs": [
    {
     "data": {
      "text/html": [
       "<div>\n",
       "<style scoped>\n",
       "    .dataframe tbody tr th:only-of-type {\n",
       "        vertical-align: middle;\n",
       "    }\n",
       "\n",
       "    .dataframe tbody tr th {\n",
       "        vertical-align: top;\n",
       "    }\n",
       "\n",
       "    .dataframe thead th {\n",
       "        text-align: right;\n",
       "    }\n",
       "</style>\n",
       "<table border=\"1\" class=\"dataframe\">\n",
       "  <thead>\n",
       "    <tr style=\"text-align: right;\">\n",
       "      <th></th>\n",
       "      <th>Order_Datetime</th>\n",
       "      <th>Order_ID</th>\n",
       "      <th>Product_ID</th>\n",
       "      <th>Sku_Quantity</th>\n",
       "      <th>Category_ID</th>\n",
       "      <th>Category</th>\n",
       "      <th>Branch_ID</th>\n",
       "      <th>Price_USD</th>\n",
       "      <th>User_ID</th>\n",
       "      <th>Target_Gender</th>\n",
       "      <th>Main_Color</th>\n",
       "      <th>Main_Metal</th>\n",
       "      <th>Main_Gem</th>\n",
       "    </tr>\n",
       "  </thead>\n",
       "  <tbody>\n",
       "    <tr>\n",
       "      <th>0</th>\n",
       "      <td>2018-12-01 17:38:31 UTC</td>\n",
       "      <td>1924899396621697920</td>\n",
       "      <td>1806829193678291446</td>\n",
       "      <td>1</td>\n",
       "      <td>1.806829e+18</td>\n",
       "      <td>NaN</td>\n",
       "      <td>NaN</td>\n",
       "      <td>212.14</td>\n",
       "      <td>1.515916e+18</td>\n",
       "      <td>NaN</td>\n",
       "      <td>yellow</td>\n",
       "      <td>gold</td>\n",
       "      <td>NaN</td>\n",
       "    </tr>\n",
       "    <tr>\n",
       "      <th>1</th>\n",
       "      <td>2018-12-02 13:53:42 UTC</td>\n",
       "      <td>1925511016616034733</td>\n",
       "      <td>1842214461889315556</td>\n",
       "      <td>1</td>\n",
       "      <td>1.806829e+18</td>\n",
       "      <td>jewelry.pendant</td>\n",
       "      <td>1.0</td>\n",
       "      <td>54.66</td>\n",
       "      <td>1.515916e+18</td>\n",
       "      <td>f</td>\n",
       "      <td>white</td>\n",
       "      <td>gold</td>\n",
       "      <td>sapphire</td>\n",
       "    </tr>\n",
       "    <tr>\n",
       "      <th>2</th>\n",
       "      <td>2018-12-02 17:44:02 UTC</td>\n",
       "      <td>1925626951238681511</td>\n",
       "      <td>1835566849434059453</td>\n",
       "      <td>1</td>\n",
       "      <td>1.806829e+18</td>\n",
       "      <td>jewelry.pendant</td>\n",
       "      <td>0.0</td>\n",
       "      <td>88.90</td>\n",
       "      <td>1.515916e+18</td>\n",
       "      <td>f</td>\n",
       "      <td>red</td>\n",
       "      <td>gold</td>\n",
       "      <td>diamond</td>\n",
       "    </tr>\n",
       "    <tr>\n",
       "      <th>3</th>\n",
       "      <td>2018-12-02 21:30:19 UTC</td>\n",
       "      <td>1925740842841014667</td>\n",
       "      <td>1873936840742928865</td>\n",
       "      <td>1</td>\n",
       "      <td>1.806829e+18</td>\n",
       "      <td>jewelry.necklace</td>\n",
       "      <td>0.0</td>\n",
       "      <td>417.67</td>\n",
       "      <td>1.515916e+18</td>\n",
       "      <td>NaN</td>\n",
       "      <td>red</td>\n",
       "      <td>gold</td>\n",
       "      <td>amethyst</td>\n",
       "    </tr>\n",
       "    <tr>\n",
       "      <th>4</th>\n",
       "      <td>2018-12-02 22:09:34 UTC</td>\n",
       "      <td>1925760595336888995</td>\n",
       "      <td>1835566854827934449</td>\n",
       "      <td>1</td>\n",
       "      <td>1.806829e+18</td>\n",
       "      <td>jewelry.earring</td>\n",
       "      <td>1.0</td>\n",
       "      <td>102.27</td>\n",
       "      <td>1.515916e+18</td>\n",
       "      <td>NaN</td>\n",
       "      <td>red</td>\n",
       "      <td>gold</td>\n",
       "      <td>NaN</td>\n",
       "    </tr>\n",
       "  </tbody>\n",
       "</table>\n",
       "</div>"
      ],
      "text/plain": [
       "            Order_Datetime             Order_ID           Product_ID  \\\n",
       "0  2018-12-01 17:38:31 UTC  1924899396621697920  1806829193678291446   \n",
       "1  2018-12-02 13:53:42 UTC  1925511016616034733  1842214461889315556   \n",
       "2  2018-12-02 17:44:02 UTC  1925626951238681511  1835566849434059453   \n",
       "3  2018-12-02 21:30:19 UTC  1925740842841014667  1873936840742928865   \n",
       "4  2018-12-02 22:09:34 UTC  1925760595336888995  1835566854827934449   \n",
       "\n",
       "   Sku_Quantity   Category_ID          Category  Branch_ID  Price_USD  \\\n",
       "0             1  1.806829e+18               NaN        NaN     212.14   \n",
       "1             1  1.806829e+18   jewelry.pendant        1.0      54.66   \n",
       "2             1  1.806829e+18   jewelry.pendant        0.0      88.90   \n",
       "3             1  1.806829e+18  jewelry.necklace        0.0     417.67   \n",
       "4             1  1.806829e+18   jewelry.earring        1.0     102.27   \n",
       "\n",
       "        User_ID Target_Gender Main_Color Main_Metal  Main_Gem  \n",
       "0  1.515916e+18           NaN     yellow       gold       NaN  \n",
       "1  1.515916e+18             f      white       gold  sapphire  \n",
       "2  1.515916e+18             f        red       gold   diamond  \n",
       "3  1.515916e+18           NaN        red       gold  amethyst  \n",
       "4  1.515916e+18           NaN        red       gold       NaN  "
      ]
     },
     "execution_count": 103,
     "metadata": {},
     "output_type": "execute_result"
    }
   ],
   "source": [
    "df.head(5)"
   ]
  },
  {
   "cell_type": "code",
   "execution_count": 105,
   "id": "70468fbc-4329-453f-9a11-5782a332d2b6",
   "metadata": {},
   "outputs": [
    {
     "name": "stdout",
     "output_type": "stream",
     "text": [
      "<class 'pandas.core.frame.DataFrame'>\n",
      "RangeIndex: 95910 entries, 0 to 95909\n",
      "Data columns (total 13 columns):\n",
      " #   Column          Non-Null Count  Dtype  \n",
      "---  ------          --------------  -----  \n",
      " 0   Order_Datetime  95910 non-null  object \n",
      " 1   Order_ID        95910 non-null  int64  \n",
      " 2   Product_ID      95910 non-null  int64  \n",
      " 3   Sku_Quantity    95910 non-null  int64  \n",
      " 4   Category_ID     90558 non-null  float64\n",
      " 5   Category        85977 non-null  object \n",
      " 6   Branch_ID       91125 non-null  float64\n",
      " 7   Price_USD       90558 non-null  float64\n",
      " 8   User_ID         90558 non-null  float64\n",
      " 9   Target_Gender   47743 non-null  object \n",
      " 10  Main_Color      88250 non-null  object \n",
      " 11  Main_Metal      90448 non-null  object \n",
      " 12  Main_Gem        61852 non-null  object \n",
      "dtypes: float64(4), int64(3), object(6)\n",
      "memory usage: 9.5+ MB\n"
     ]
    }
   ],
   "source": [
    "df.info()"
   ]
  },
  {
   "cell_type": "code",
   "execution_count": 107,
   "id": "f962da92-9bd8-44ec-b099-cf31d434f9b2",
   "metadata": {},
   "outputs": [
    {
     "data": {
      "text/plain": [
       "Order_Datetime        0\n",
       "Order_ID              0\n",
       "Product_ID            0\n",
       "Sku_Quantity          0\n",
       "Category_ID        5352\n",
       "Category           9933\n",
       "Branch_ID          4785\n",
       "Price_USD          5352\n",
       "User_ID            5352\n",
       "Target_Gender     48167\n",
       "Main_Color         7660\n",
       "Main_Metal         5462\n",
       "Main_Gem          34058\n",
       "dtype: int64"
      ]
     },
     "execution_count": 107,
     "metadata": {},
     "output_type": "execute_result"
    }
   ],
   "source": [
    "#Check for missing values\n",
    "df.isnull().sum()"
   ]
  },
  {
   "cell_type": "code",
   "execution_count": 109,
   "id": "ee16e60b-f2e0-4636-89f1-d9f13fc0720e",
   "metadata": {},
   "outputs": [
    {
     "data": {
      "text/html": [
       "<div>\n",
       "<style scoped>\n",
       "    .dataframe tbody tr th:only-of-type {\n",
       "        vertical-align: middle;\n",
       "    }\n",
       "\n",
       "    .dataframe tbody tr th {\n",
       "        vertical-align: top;\n",
       "    }\n",
       "\n",
       "    .dataframe thead th {\n",
       "        text-align: right;\n",
       "    }\n",
       "</style>\n",
       "<table border=\"1\" class=\"dataframe\">\n",
       "  <thead>\n",
       "    <tr style=\"text-align: right;\">\n",
       "      <th></th>\n",
       "      <th>Order_ID</th>\n",
       "      <th>Product_ID</th>\n",
       "      <th>Sku_Quantity</th>\n",
       "      <th>Category_ID</th>\n",
       "      <th>Branch_ID</th>\n",
       "      <th>Price_USD</th>\n",
       "      <th>User_ID</th>\n",
       "    </tr>\n",
       "  </thead>\n",
       "  <tbody>\n",
       "    <tr>\n",
       "      <th>count</th>\n",
       "      <td>9.591000e+04</td>\n",
       "      <td>9.591000e+04</td>\n",
       "      <td>95910.0</td>\n",
       "      <td>9.055800e+04</td>\n",
       "      <td>9.112500e+04</td>\n",
       "      <td>90558.000000</td>\n",
       "      <td>9.055800e+04</td>\n",
       "    </tr>\n",
       "    <tr>\n",
       "      <th>mean</th>\n",
       "      <td>2.485191e+18</td>\n",
       "      <td>1.815970e+18</td>\n",
       "      <td>1.0</td>\n",
       "      <td>1.805947e+18</td>\n",
       "      <td>8.891036e+16</td>\n",
       "      <td>362.213017</td>\n",
       "      <td>1.512644e+18</td>\n",
       "    </tr>\n",
       "    <tr>\n",
       "      <th>std</th>\n",
       "      <td>1.934750e+17</td>\n",
       "      <td>2.136814e+17</td>\n",
       "      <td>0.0</td>\n",
       "      <td>2.083954e+16</td>\n",
       "      <td>3.559651e+17</td>\n",
       "      <td>444.157665</td>\n",
       "      <td>2.374776e+16</td>\n",
       "    </tr>\n",
       "    <tr>\n",
       "      <th>min</th>\n",
       "      <td>1.924899e+18</td>\n",
       "      <td>1.313551e+18</td>\n",
       "      <td>1.0</td>\n",
       "      <td>1.313678e+18</td>\n",
       "      <td>0.000000e+00</td>\n",
       "      <td>0.990000</td>\n",
       "      <td>1.313554e+18</td>\n",
       "    </tr>\n",
       "    <tr>\n",
       "      <th>25%</th>\n",
       "      <td>2.379732e+18</td>\n",
       "      <td>1.515966e+18</td>\n",
       "      <td>1.0</td>\n",
       "      <td>1.806829e+18</td>\n",
       "      <td>0.000000e+00</td>\n",
       "      <td>145.620000</td>\n",
       "      <td>1.515916e+18</td>\n",
       "    </tr>\n",
       "    <tr>\n",
       "      <th>50%</th>\n",
       "      <td>2.524282e+18</td>\n",
       "      <td>1.956664e+18</td>\n",
       "      <td>1.0</td>\n",
       "      <td>1.806829e+18</td>\n",
       "      <td>1.000000e+00</td>\n",
       "      <td>258.770000</td>\n",
       "      <td>1.515916e+18</td>\n",
       "    </tr>\n",
       "    <tr>\n",
       "      <th>75%</th>\n",
       "      <td>2.644347e+18</td>\n",
       "      <td>1.956664e+18</td>\n",
       "      <td>1.0</td>\n",
       "      <td>1.806829e+18</td>\n",
       "      <td>1.000000e+00</td>\n",
       "      <td>431.370000</td>\n",
       "      <td>1.515916e+18</td>\n",
       "    </tr>\n",
       "    <tr>\n",
       "      <th>max</th>\n",
       "      <td>2.719022e+18</td>\n",
       "      <td>2.541962e+18</td>\n",
       "      <td>1.0</td>\n",
       "      <td>1.806829e+18</td>\n",
       "      <td>1.550613e+18</td>\n",
       "      <td>34448.600000</td>\n",
       "      <td>1.554297e+18</td>\n",
       "    </tr>\n",
       "  </tbody>\n",
       "</table>\n",
       "</div>"
      ],
      "text/plain": [
       "           Order_ID    Product_ID  Sku_Quantity   Category_ID     Branch_ID  \\\n",
       "count  9.591000e+04  9.591000e+04       95910.0  9.055800e+04  9.112500e+04   \n",
       "mean   2.485191e+18  1.815970e+18           1.0  1.805947e+18  8.891036e+16   \n",
       "std    1.934750e+17  2.136814e+17           0.0  2.083954e+16  3.559651e+17   \n",
       "min    1.924899e+18  1.313551e+18           1.0  1.313678e+18  0.000000e+00   \n",
       "25%    2.379732e+18  1.515966e+18           1.0  1.806829e+18  0.000000e+00   \n",
       "50%    2.524282e+18  1.956664e+18           1.0  1.806829e+18  1.000000e+00   \n",
       "75%    2.644347e+18  1.956664e+18           1.0  1.806829e+18  1.000000e+00   \n",
       "max    2.719022e+18  2.541962e+18           1.0  1.806829e+18  1.550613e+18   \n",
       "\n",
       "          Price_USD       User_ID  \n",
       "count  90558.000000  9.055800e+04  \n",
       "mean     362.213017  1.512644e+18  \n",
       "std      444.157665  2.374776e+16  \n",
       "min        0.990000  1.313554e+18  \n",
       "25%      145.620000  1.515916e+18  \n",
       "50%      258.770000  1.515916e+18  \n",
       "75%      431.370000  1.515916e+18  \n",
       "max    34448.600000  1.554297e+18  "
      ]
     },
     "execution_count": 109,
     "metadata": {},
     "output_type": "execute_result"
    }
   ],
   "source": [
    "# Statistical properties\n",
    "df.describe()"
   ]
  },
  {
   "cell_type": "code",
   "execution_count": 111,
   "id": "f3ed584e-a091-488c-9442-0c00bd80bdd6",
   "metadata": {},
   "outputs": [
    {
     "data": {
      "text/plain": [
       "Order_Datetime    74504\n",
       "Order_ID          74759\n",
       "Product_ID         9613\n",
       "Sku_Quantity          1\n",
       "Category_ID          25\n",
       "Category            218\n",
       "Branch_ID          2537\n",
       "Price_USD          3166\n",
       "User_ID           31079\n",
       "Target_Gender         2\n",
       "Main_Color            5\n",
       "Main_Metal            3\n",
       "Main_Gem             30\n",
       "dtype: int64"
      ]
     },
     "execution_count": 111,
     "metadata": {},
     "output_type": "execute_result"
    }
   ],
   "source": [
    "#Feature cardinality- how many unique value a column can take\n",
    "df.nunique()"
   ]
  },
  {
   "cell_type": "code",
   "execution_count": 113,
   "id": "c85868d1-945f-46d7-b99f-e73be00b57b7",
   "metadata": {},
   "outputs": [
    {
     "data": {
      "text/plain": [
       "Order_Datetime     object\n",
       "Order_ID            int64\n",
       "Product_ID          int64\n",
       "Sku_Quantity        int64\n",
       "Category_ID       float64\n",
       "Category           object\n",
       "Branch_ID         float64\n",
       "Price_USD         float64\n",
       "User_ID           float64\n",
       "Target_Gender      object\n",
       "Main_Color         object\n",
       "Main_Metal         object\n",
       "Main_Gem           object\n",
       "dtype: object"
      ]
     },
     "execution_count": 113,
     "metadata": {},
     "output_type": "execute_result"
    }
   ],
   "source": [
    "df.dtypes\n"
   ]
  },
  {
   "cell_type": "markdown",
   "id": "90fe1f30-d3ff-4bc1-8752-dc2b5a3ca1f4",
   "metadata": {},
   "source": [
    "# Exploratory Data Analysis"
   ]
  },
  {
   "cell_type": "code",
   "execution_count": 116,
   "id": "756e4b98-b85c-44b7-acf7-11d5d4871e10",
   "metadata": {},
   "outputs": [
    {
     "data": {
      "text/plain": [
       "Index(['Order_Datetime', 'Order_ID', 'Product_ID', 'Sku_Quantity',\n",
       "       'Category_ID', 'Category', 'Branch_ID', 'Price_USD', 'User_ID',\n",
       "       'Target_Gender', 'Main_Color', 'Main_Metal', 'Main_Gem'],\n",
       "      dtype='object')"
      ]
     },
     "execution_count": 116,
     "metadata": {},
     "output_type": "execute_result"
    }
   ],
   "source": [
    "df.columns"
   ]
  },
  {
   "cell_type": "code",
   "execution_count": 118,
   "id": "3f113cfd-7428-4bf0-9d52-5195a1b581d9",
   "metadata": {},
   "outputs": [
    {
     "data": {
      "text/plain": [
       "2589"
      ]
     },
     "execution_count": 118,
     "metadata": {},
     "output_type": "execute_result"
    }
   ],
   "source": [
    "df.duplicated().sum()\n"
   ]
  },
  {
   "cell_type": "markdown",
   "id": "17cfaf8c-6536-451e-bae4-069922b3c52b",
   "metadata": {},
   "source": [
    "# Univariate Analysis"
   ]
  },
  {
   "cell_type": "code",
   "execution_count": 120,
   "id": "61114190-7f17-4fab-9e4e-b6d0e4b76a4e",
   "metadata": {},
   "outputs": [
    {
     "data": {
      "text/plain": [
       "<Axes: >"
      ]
     },
     "execution_count": 120,
     "metadata": {},
     "output_type": "execute_result"
    },
    {
     "data": {
      "image/png": "[encoded data removed]",
      "text/plain": [
       "<Figure size 640x480 with 1 Axes>"
      ]
     },
     "metadata": {},
     "output_type": "display_data"
    }
   ],
   "source": [
    "# Numerical Analysis using histogram to show Price_USD distribution\n",
    "\n",
    "df['Price_USD'].hist(bins=30)\n"
   ]
  },
  {
   "cell_type": "code",
   "execution_count": 122,
   "id": "f7bae421-e1b2-4f4a-baee-eb8c6aba9007",
   "metadata": {},
   "outputs": [
    {
     "data": {
      "text/plain": [
       "<Axes: xlabel='Price_USD'>"
      ]
     },
     "execution_count": 122,
     "metadata": {},
     "output_type": "execute_result"
    },
    {
     "data": {
      "image/png": "[encoded data removed]",
      "text/plain": [
       "<Figure size 640x480 with 1 Axes>"
      ]
     },
     "metadata": {},
     "output_type": "display_data"
    }
   ],
   "source": [
    "sns.boxplot(x=df['Price_USD'])\n"
   ]
  },
  {
   "cell_type": "code",
   "execution_count": 124,
   "id": "f7bb1e23-4541-43cc-8adc-0c4239ebd420",
   "metadata": {},
   "outputs": [
    {
     "data": {
      "text/plain": [
       "<Axes: xlabel='Main_Metal', ylabel='count'>"
      ]
     },
     "execution_count": 124,
     "metadata": {},
     "output_type": "execute_result"
    },
    {
     "data": {
      "image/png": "[encoded data removed]",
      "text/plain": [
       "<Figure size 640x480 with 1 Axes>"
      ]
     },
     "metadata": {},
     "output_type": "display_data"
    }
   ],
   "source": [
    "# Categorical Feature Analysis\n",
    "\n",
    "sns.countplot(data=df, x='Main_Metal')\n"
   ]
  },
  {
   "cell_type": "code",
   "execution_count": 126,
   "id": "f1931fde-b6f1-42d1-89c9-b658890bac25",
   "metadata": {},
   "outputs": [
    {
     "data": {
      "image/png": "[encoded data removed]",
      "text/plain": [
       "<Figure size 800x600 with 1 Axes>"
      ]
     },
     "metadata": {},
     "output_type": "display_data"
    }
   ],
   "source": [
    "#Visualize Target_Gender - how jewellery is distributed\n",
    "plt.figure(figsize = (8,6))\n",
    "\n",
    "sns.countplot(data = df, x = \"Target_Gender\")\n",
    "\n",
    "plt.xlabel(\"Gender\")\n",
    "plt.ylabel(\"Gender Subpopulation\")\n",
    "\n",
    "plt.show(); plt.close()"
   ]
  },
  {
   "cell_type": "code",
   "execution_count": 30,
   "id": "2f98de6a-c42c-4b33-85f6-96ea4903b8f5",
   "metadata": {},
   "outputs": [
    {
     "data": {
      "text/plain": [
       "<Axes: xlabel='Target_Gender', ylabel='count'>"
      ]
     },
     "execution_count": 30,
     "metadata": {},
     "output_type": "execute_result"
    },
    {
     "data": {
      "image/png": "[encoded data removed]",
      "text/plain": [
       "<Figure size 640x480 with 1 Axes>"
      ]
     },
     "metadata": {},
     "output_type": "display_data"
    }
   ],
   "source": [
    "# Categorical Feature Analysis\n",
    "\n",
    "sns.countplot(data=df, x='Target_Gender')\n"
   ]
  },
  {
   "cell_type": "markdown",
   "id": "3fcf6407-9aa9-497d-9abc-d3e61b7c47a0",
   "metadata": {},
   "source": [
    "# Female had the highest count when compared to the Male that bought Jewelry."
   ]
  },
  {
   "cell_type": "markdown",
   "id": "2cdb7e66-5ca7-4e55-a1e8-2f42cc27a0c0",
   "metadata": {},
   "source": [
    "# Bivariate Analysis"
   ]
  },
  {
   "cell_type": "code",
   "execution_count": 128,
   "id": "e0719a06-43cd-4c48-804a-81f9933565d0",
   "metadata": {},
   "outputs": [
    {
     "data": {
      "text/plain": [
       "Index(['Order_Datetime', 'Order_ID', 'Product_ID', 'Sku_Quantity',\n",
       "       'Category_ID', 'Category', 'Branch_ID', 'Price_USD', 'User_ID',\n",
       "       'Target_Gender', 'Main_Color', 'Main_Metal', 'Main_Gem'],\n",
       "      dtype='object')"
      ]
     },
     "execution_count": 128,
     "metadata": {},
     "output_type": "execute_result"
    }
   ],
   "source": [
    "df.columns"
   ]
  },
  {
   "cell_type": "code",
   "execution_count": 130,
   "id": "1c4f5a33-c77b-43c1-96d3-7ef1bc497c33",
   "metadata": {},
   "outputs": [
    {
     "data": {
      "text/plain": [
       "<Axes: xlabel='Main_Color', ylabel='Price_USD'>"
      ]
     },
     "execution_count": 130,
     "metadata": {},
     "output_type": "execute_result"
    },
    {
     "data": {
      "image/png": "[encoded data removed]",
      "text/plain": [
       "<Figure size 640x480 with 1 Axes>"
      ]
     },
     "metadata": {},
     "output_type": "display_data"
    }
   ],
   "source": [
    "# Numerical analysis vs Price_USD (target)\n",
    "# Scatter plots\n",
    "sns.scatterplot(x='Main_Color', y='Price_USD', data=df)\n"
   ]
  },
  {
   "cell_type": "code",
   "execution_count": 35,
   "id": "9d1daf0c-b12e-47dc-a4e5-da8be7077501",
   "metadata": {},
   "outputs": [
    {
     "data": {
      "text/plain": [
       "<Axes: xlabel='Main_Gem', ylabel='Price_USD'>"
      ]
     },
     "execution_count": 35,
     "metadata": {},
     "output_type": "execute_result"
    },
    {
     "data": {
      "image/png": "[encoded data removed]",
      "text/plain": [
       "<Figure size 640x480 with 1 Axes>"
      ]
     },
     "metadata": {},
     "output_type": "display_data"
    }
   ],
   "source": [
    "# Numerical analysis vs Price_USD (target)\n",
    "sns.scatterplot(x='Main_Gem', y='Price_USD', data=df)"
   ]
  },
  {
   "cell_type": "code",
   "execution_count": 132,
   "id": "d370b400-e04d-40fc-bc27-9a67ca59accf",
   "metadata": {},
   "outputs": [
    {
     "data": {
      "text/plain": [
       "<Axes: xlabel='Target_Gender', ylabel='Price_USD'>"
      ]
     },
     "execution_count": 132,
     "metadata": {},
     "output_type": "execute_result"
    },
    {
     "data": {
      "image/png": "[encoded data removed]",
      "text/plain": [
       "<Figure size 640x480 with 1 Axes>"
      ]
     },
     "metadata": {},
     "output_type": "display_data"
    }
   ],
   "source": [
    "# Numerical analysis vs Price_USD (target)\n",
    "sns.scatterplot(x='Target_Gender', y='Price_USD', data=df)"
   ]
  },
  {
   "cell_type": "code",
   "execution_count": 134,
   "id": "b768c8f9-6fd4-4230-90af-ac0c42d31148",
   "metadata": {},
   "outputs": [
    {
     "data": {
      "text/plain": [
       "Price_USD       1.000000\n",
       "Order_ID        0.036979\n",
       "Category_ID     0.008955\n",
       "Branch_ID       0.008895\n",
       "User_ID         0.002302\n",
       "Product_ID     -0.041197\n",
       "Sku_Quantity         NaN\n",
       "Name: Price_USD, dtype: float64"
      ]
     },
     "execution_count": 134,
     "metadata": {},
     "output_type": "execute_result"
    }
   ],
   "source": [
    "#Correlation\n",
    "\n",
    "df.corr(numeric_only=True)['Price_USD'].sort_values(ascending=False)\n"
   ]
  },
  {
   "cell_type": "code",
   "execution_count": 61,
   "id": "b5a70639-ef3b-4e38-84eb-02d8c4e42cd0",
   "metadata": {},
   "outputs": [
    {
     "data": {
      "text/plain": [
       "<Axes: xlabel='Main_Metal', ylabel='Price_USD'>"
      ]
     },
     "execution_count": 61,
     "metadata": {},
     "output_type": "execute_result"
    },
    {
     "data": {
      "image/png": "[encoded data removed]",
      "text/plain": [
       "<Figure size 640x480 with 1 Axes>"
      ]
     },
     "metadata": {},
     "output_type": "display_data"
    }
   ],
   "source": [
    "#Violin plot\n",
    "\n",
    "sns.violinplot(x='Main_Metal', y='Price_USD', data=df)\n"
   ]
  },
  {
   "cell_type": "code",
   "execution_count": 136,
   "id": "d08c6a2e-6d87-4556-bff6-11473192c96c",
   "metadata": {},
   "outputs": [
    {
     "data": {
      "text/plain": [
       "<Axes: xlabel='Price_USD'>"
      ]
     },
     "execution_count": 136,
     "metadata": {},
     "output_type": "execute_result"
    },
    {
     "data": {
      "image/png": "[encoded data removed]",
      "text/plain": [
       "<Figure size 640x480 with 1 Axes>"
      ]
     },
     "metadata": {},
     "output_type": "display_data"
    }
   ],
   "source": [
    "#check for outliers\n",
    "sns.boxplot(x=df[\"Price_USD\"])"
   ]
  },
  {
   "cell_type": "code",
   "execution_count": null,
   "id": "bc868e4e-b7a4-422c-8e27-632089c384fe",
   "metadata": {},
   "outputs": [
    {
     "data": {
      "image/png": "[encoded data removed]",
      "text/plain": [
       "<Figure size 500x300 with 1 Axes>"
      ]
     },
     "metadata": {},
     "output_type": "display_data"
    }
   ],
   "source": [
    "obj_col = df.select_dtypes(include=\"object\").columns.to_list()\n",
    "obj_col = [\"Main_Color\"] + obj_col\n",
    "\n",
    "for col in obj_col:\n",
    "    plt.figure(figsize=(5, 3))\n",
    "    sns.countplot(x=df[col])\n",
    "    plt.title(f\"Count plot of {col}\")\n",
    "    plt.show()\n",
    "    "
   ]
  },
  {
   "cell_type": "code",
   "execution_count": null,
   "id": "ac5e0796-aa9d-403c-9b51-c1c309251a56",
   "metadata": {},
   "outputs": [],
   "source": [
    "\n",
    "# Group by Category and calculate mean Price\n",
    "category_avg_price = df.groupby('Category_Jewel')['Price_USD'].mean().sort_values(ascending=False)\n",
    "\n",
    "# Plot\n",
    "plt.figure(figsize=(10, 6))\n",
    "sns.barplot(x=category_avg_price.index, y=category_avg_price.values, palette='viridis')\n",
    "plt.title('Average Price per Jewelry Category')\n",
    "plt.ylabel('Average Price (USD)')\n",
    "plt.xlabel('Category_Jewel')\n",
    "plt.xticks(rotation=45)\n",
    "plt.tight_layout()\n",
    "plt.show()\n"
   ]
  },
  {
   "cell_type": "code",
   "execution_count": null,
   "id": "8837ed9e-91fc-4a82-a0da-662d47fb36f5",
   "metadata": {},
   "outputs": [],
   "source": [
    "# Average Price by Main_Metal\n",
    "\n",
    "plt.figure(figsize=(8, 5))\n",
    "sns.barplot(x='Main_Metal', y='Price_USD', data=df, estimator='mean', palette='coolwarm')\n",
    "plt.title('Average Price by Main Metal')\n",
    "plt.ylabel('Average Price (USD)')\n",
    "plt.xlabel('Main Metal')\n",
    "plt.xticks(rotation=45)\n",
    "plt.tight_layout()\n",
    "plt.show()"
   ]
  },
  {
   "cell_type": "code",
   "execution_count": null,
   "id": "f4a5f557-ced0-4da8-99c4-4e9c64074c06",
   "metadata": {},
   "outputs": [],
   "source": [
    "# Average Price by Target_Gender\n",
    "\n",
    "plt.figure(figsize=(6, 4))\n",
    "sns.barplot(x='Target_Gender', y='Price_USD', data=df, estimator='mean', palette='Set2')\n",
    "plt.title('Average Price by Target Gender')\n",
    "plt.ylabel('Average Price (USD)')\n",
    "plt.xlabel('Target Gender')\n",
    "plt.tight_layout()\n",
    "plt.show()"
   ]
  },
  {
   "cell_type": "markdown",
   "id": "ec928b4b-c9d1-43d2-b575-bcfa6606bf36",
   "metadata": {},
   "source": [
    "# Multivariate Analysis"
   ]
  },
  {
   "cell_type": "code",
   "execution_count": 65,
   "id": "df91fd12-6f7a-48e1-b05d-e654a55cfeaa",
   "metadata": {},
   "outputs": [
    {
     "data": {
      "text/plain": [
       "<Axes: >"
      ]
     },
     "execution_count": 65,
     "metadata": {},
     "output_type": "execute_result"
    },
    {
     "data": {
      "image/png": "[encoded data removed]",
      "text/plain": [
       "<Figure size 640x480 with 2 Axes>"
      ]
     },
     "metadata": {},
     "output_type": "display_data"
    }
   ],
   "source": [
    "# Pair Plot to show relationship of more than two features.\n",
    "\n",
    "\n",
    "\n",
    "sns.heatmap(df.corr(numeric_only=True), annot=True, cmap='coolwarm')\n",
    "\n"
   ]
  },
  {
   "cell_type": "code",
   "execution_count": null,
   "id": "a84504b0-fc69-4471-862c-31704890126a",
   "metadata": {},
   "outputs": [],
   "source": [
    "\n",
    "# Calculate the average price\n",
    "average_price = df['Price_USD'].mean()\n",
    "\n",
    "# Create a new column with the average price\n",
    "df['Average_Price_USD'] = average_price\n",
    "\n",
    "# Display first few rows to verify\n",
    "print(df[['Price_USD', 'Average_Price_USD']].head())\n"
   ]
  },
  {
   "cell_type": "code",
   "execution_count": 69,
   "id": "f3129773-4f32-493e-b749-bb6a6d4b9bb4",
   "metadata": {},
   "outputs": [
    {
     "data": {
      "text/plain": [
       "<Axes: xlabel='Average_Price_USD', ylabel='Price_USD'>"
      ]
     },
     "execution_count": 69,
     "metadata": {},
     "output_type": "execute_result"
    },
    {
     "data": {
      "image/png": "[encoded data removed]",
      "text/plain": [
       "<Figure size 640x480 with 1 Axes>"
      ]
     },
     "metadata": {},
     "output_type": "display_data"
    }
   ],
   "source": [
    "# Numerical analysis vs Price_USD (target)\n",
    "# Scatter plots\n",
    "sns.scatterplot(x='Average_Price_USD', y='Price_USD', data=df)\n"
   ]
  },
  {
   "cell_type": "code",
   "execution_count": null,
   "id": "ce65d1bd-669f-471f-8f81-184e2531468c",
   "metadata": {},
   "outputs": [],
   "source": [
    "#Duplicate value\n",
    "num_duplicated = len(df.loc[df.duplicated()])"
   ]
  },
  {
   "cell_type": "code",
   "execution_count": null,
   "id": "804ea0c2-25bd-48d8-a872-11185d7b47f4",
   "metadata": {},
   "outputs": [],
   "source": [
    "#Print num of duplicated records\n",
    "print(f\"Number of duplicate records:\", num_duplicated)"
   ]
  },
  {
   "cell_type": "code",
   "execution_count": null,
   "id": "4f483cf1-4a7e-4c91-9197-98dac92319a5",
   "metadata": {},
   "outputs": [],
   "source": [
    "#Features with a cardinality of i (invariant features- nothing needed to learn about this feature)\n",
    "\n",
    "invariant_features = df.nunique()[df.nunique() == 1].index.tolist()"
   ]
  },
  {
   "cell_type": "code",
   "execution_count": null,
   "id": "b2086f55-7565-4bb7-b217-492fce2012b5",
   "metadata": {},
   "outputs": [],
   "source": [
    "invariant_features"
   ]
  },
  {
   "cell_type": "code",
   "execution_count": null,
   "id": "80a12c25-d56d-4d79-9745-094ef4d7f63d",
   "metadata": {},
   "outputs": [],
   "source": [
    "#Check for label distribution- looking for skew distribution\n",
    "df[\"Price_USD\"].skew()"
   ]
  },
  {
   "cell_type": "code",
   "execution_count": null,
   "id": "bb0de50c-67b0-4337-9968-b0d3981e8628",
   "metadata": {},
   "outputs": [],
   "source": [
    "#Price Kurtosis\n",
    "df[\"Price_USD\"].kurtosis()"
   ]
  },
  {
   "cell_type": "code",
   "execution_count": null,
   "id": "dd0dd5d3-e559-45c9-8ee0-0973ed7f2244",
   "metadata": {},
   "outputs": [],
   "source": [
    "#Visualize price distribution by plotting \n",
    "plt.figure(figsize = (8,6))\n",
    "\n",
    "sns.kdeplot(df, x = \"Price_USD\")\n",
    "\n",
    "plt.xlabel(\"Price in U.S. Dollars\")\n",
    "plt.ylabel(\"Price Frequency\")\n",
    "\n",
    "plt.tight_layout()\n",
    "plt.show(); plt.close()"
   ]
  },
  {
   "cell_type": "code",
   "execution_count": null,
   "id": "e57dab70-ee68-428a-8e5d-5260e6a36c8b",
   "metadata": {},
   "outputs": [],
   "source": [
    "# Target gender analysis\n",
    "df[\"Target_Gender\"].value_counts()"
   ]
  },
  {
   "cell_type": "code",
   "execution_count": null,
   "id": "22c85501-aade-4ad8-8332-f714f221e2ff",
   "metadata": {},
   "outputs": [],
   "source": [
    "# Target gender analysis- normalize\n",
    "df[\"Target_Gender\"].value_counts(normalize = True)"
   ]
  },
  {
   "cell_type": "code",
   "execution_count": null,
   "id": "a2855314-edf1-438e-afa1-f9ac7194c326",
   "metadata": {},
   "outputs": [],
   "source": [
    "# Jewelry Category analysis\n",
    "df[\"Category_Jewel\"].value_counts()"
   ]
  },
  {
   "cell_type": "code",
   "execution_count": null,
   "id": "fb55b81a-bda5-49f3-a52b-72eb95d8633c",
   "metadata": {},
   "outputs": [],
   "source": [
    "#Only few info makes sense of the data-, so eliminate data not needed like the numbers\n",
    "#df[\"Category\"].unique()"
   ]
  },
  {
   "cell_type": "code",
   "execution_count": null,
   "id": "0ce69ef4-aece-4cbf-9bd8-a1afc5e19fc2",
   "metadata": {},
   "outputs": [],
   "source": [
    "# Extract the actual categories\n",
    "categories = df[\"Category_Jewel\"].unique().tolist()\n",
    "categories = [c for c in categories if isinstance(c, str) and \"jewelry\" in c]"
   ]
  },
  {
   "cell_type": "code",
   "execution_count": null,
   "id": "41a30fb0-479d-47b8-aeef-58ef1571d96d",
   "metadata": {},
   "outputs": [],
   "source": [
    "categories"
   ]
  },
  {
   "cell_type": "code",
   "execution_count": null,
   "id": "1d6b70b1-272b-4b1c-9ef4-b4139436cc46",
   "metadata": {},
   "outputs": [],
   "source": [
    "#Pick out authentic data based on categories\n",
    "real_categories = df.loc[df[\"Category_Jewel\"].isin(categories)]"
   ]
  },
  {
   "cell_type": "code",
   "execution_count": null,
   "id": "98668dd8-cc72-4199-87c2-f9c7e5e199b0",
   "metadata": {},
   "outputs": [],
   "source": [
    "#Percentage of missing values\n",
    "100 * df.isnull().sum() / len(df)"
   ]
  },
  {
   "cell_type": "code",
   "execution_count": null,
   "id": "83e86fba-4d87-4e94-a6a4-c5e44c18b6eb",
   "metadata": {},
   "outputs": [],
   "source": [
    "#Percentage of missing values fixed\n",
    "100 * real_categories.isnull().sum() / len(real_categories)"
   ]
  },
  {
   "cell_type": "markdown",
   "id": "b6fad540-ae9d-41de-940e-72900ee72fa7",
   "metadata": {},
   "source": [
    "# a large part of the corruption in the data is due to one of the feature corrupted- Category feature"
   ]
  },
  {
   "cell_type": "code",
   "execution_count": null,
   "id": "df549a9c-9706-4bfc-bef6-c619f06830d7",
   "metadata": {},
   "outputs": [],
   "source": [
    "#Visualize jewelry Category feature\n",
    "subdf = real_categories[\"Category_Jewel\"].value_counts()\n",
    "\n",
    "jewelry_categories, counts = subdf.index.tolist(), subdf.values.tolist()\n",
    "\n",
    "plt.figure(figsize = (12,8))\n",
    "\n",
    "plt.pie(x = counts, labels = jewelry_categories)\n",
    "\n",
    "plt.show(); plt.close()"
   ]
  },
  {
   "cell_type": "code",
   "execution_count": null,
   "id": "e080a4b7-dd20-46b9-9f4a-07891392d5e9",
   "metadata": {},
   "outputs": [],
   "source": [
    "#Category feature in countplot\n",
    "plt.figure(figsize = (12,8))\n",
    "\n",
    "sns.countplot(data = real_categories, x = \"Category_Jewel\")\n",
    "\n",
    "plt.xlabel(\"Jewelry categories\")\n",
    "plt.ylabel(\"Category frequency\")\n",
    "\n",
    "plt.show(); plt.close()"
   ]
  },
  {
   "cell_type": "code",
   "execution_count": null,
   "id": "0c6d753c-2168-4f74-a04b-c2beb07a2511",
   "metadata": {},
   "outputs": [],
   "source": [
    "real_categories.head(3)"
   ]
  },
  {
   "cell_type": "markdown",
   "id": "f743a9fd-8835-4c89-9744-332373478bff",
   "metadata": {},
   "source": [
    "# Sales of Jewelry ring mainly  to the male. The business can develop other category of Jewel to the males as the chart above that the \n",
    "# female gender has more users in the different varieties of Jewelleries."
   ]
  },
  {
   "cell_type": "code",
   "execution_count": null,
   "id": "8340e076-c3a1-4204-b9a4-d41190b81b2d",
   "metadata": {},
   "outputs": [],
   "source": [
    "# Gender skew in original data\n",
    "df[\"Target_Gender\"].value_counts(normalize = True)"
   ]
  },
  {
   "cell_type": "code",
   "execution_count": null,
   "id": "f85f09d8-aaf5-4f7c-acc2-d369316ae1a1",
   "metadata": {},
   "outputs": [],
   "source": [
    "# Gender skew in original data\n",
    "real_categories[\"Target_Gender\"].value_counts(normalize = True)"
   ]
  },
  {
   "cell_type": "markdown",
   "id": "fab839ef-5302-4635-831d-7e3509123f9d",
   "metadata": {},
   "source": [
    "# Summary of findings\n",
    "1. There are missing values in the dataset, can be fixed by inputting values\n",
    "2. Data corruption in jewelry category feature\n",
    "3. Rare values- column \"Target_Gender\" has the \"male\" with rare values which can be the reflection from the distribution of data.\n",
    "4. Low cardinality or feature invariance- The SKU_Quantity feature has only one unique value,no new information added.\n",
    "5. Target Skew- Target variable is right skewed, this can present issues during training of the dataset.\n",
    "6. Correlation-Target variable exhibits a low correlation with independent variable."
   ]
  },
  {
   "cell_type": "markdown",
   "id": "9abc53c6-6a41-432e-8b6c-b15ecc0a3293",
   "metadata": {},
   "source": [
    "# Data Visualization"
   ]
  },
  {
   "cell_type": "code",
   "execution_count": null,
   "id": "5ebb16ca-489b-4187-9a76-1e2c07254f9f",
   "metadata": {},
   "outputs": [],
   "source": [
    "df.head()"
   ]
  },
  {
   "cell_type": "code",
   "execution_count": null,
   "id": "d2983af2-22e8-41ec-aac7-d52f3a689d7a",
   "metadata": {},
   "outputs": [],
   "source": [
    "print(df['Price_USD'].value_counts())"
   ]
  },
  {
   "cell_type": "code",
   "execution_count": null,
   "id": "0dd67633-bea4-43fc-a5e3-b6b39014cde3",
   "metadata": {},
   "outputs": [],
   "source": [
    "sns.countplot(x= 'Price_USD', data=df)\n",
    "plt.show()\n",
    "\n"
   ]
  },
  {
   "cell_type": "code",
   "execution_count": null,
   "id": "ab39ce69-1908-49e5-a35f-ee3a989dceab",
   "metadata": {},
   "outputs": [],
   "source": [
    "print(df['Target_Gender'].value_counts())\n",
    "sns.countplot(x = 'Target_Gender', data = df)\n",
    "plt.show()"
   ]
  },
  {
   "cell_type": "code",
   "execution_count": null,
   "id": "f5990b38-c898-4400-8bff-70f63485835f",
   "metadata": {},
   "outputs": [],
   "source": [
    "print(df['Main_Metal'].value_counts())\n",
    "sns.countplot(x = 'Main_Metal', data = df)\n",
    "plt.show()"
   ]
  },
  {
   "cell_type": "code",
   "execution_count": null,
   "id": "d82b3c19-c992-4d5d-9692-c24982f2a714",
   "metadata": {},
   "outputs": [],
   "source": [
    "\n",
    "\n",
    "# Get the top 10 most frequent Main_Gem values\n",
    "top_10_gems = df['Main_Gem'].value_counts().head(10).index\n",
    "\n",
    "# Filter the DataFrame to include only those top 10 gems\n",
    "df_top_gems = df[df['Main_Gem'].isin(top_10_gems)]\n",
    "\n",
    "# Plot the count of top 10 Main_Gem values\n",
    "plt.figure(figsize=(8, 6))\n",
    "sns.countplot(x='Main_Gem', data=df_top_gems, order=top_10_gems, palette='viridis')\n",
    "plt.title('Top 10 Most Common Main_Gem Values')\n",
    "plt.xlabel('Main_Gem')\n",
    "plt.ylabel('Count')\n",
    "plt.xticks(rotation=45)\n",
    "plt.tight_layout()\n",
    "plt.show()\n"
   ]
  },
  {
   "cell_type": "code",
   "execution_count": null,
   "id": "2c282661-43ea-4ce8-ab89-ef0a5e3b5f00",
   "metadata": {},
   "outputs": [],
   "source": [
    "#Barplot for Main_Gem top 10\n",
    "\n",
    "# Define the top 10 Main_Gem values\n",
    "top_10_main_gems = df['Main_Gem'].value_counts().head(10)\n",
    "\n",
    "# Barplot for Main_Gem top 10\n",
    "plt.figure(figsize=(10, 6))\n",
    "sns.barplot(x=top_10_main_gems.values, y=top_10_main_gems.index, palette='viridis')\n",
    "plt.title('Top 10 Most Common Main_Gem Values')\n",
    "plt.xlabel('Count')\n",
    "plt.ylabel('Main_Gem')\n",
    "plt.tight_layout()\n",
    "plt.show()\n"
   ]
  },
  {
   "cell_type": "code",
   "execution_count": null,
   "id": "ae8b4d26-ea1b-4bfa-995e-c967ffea22c9",
   "metadata": {},
   "outputs": [],
   "source": [
    "print(df['Main_Gem'].value_counts())\n",
    "sns.countplot(x = 'Main_Gem', data = df)\n",
    "plt.show()"
   ]
  },
  {
   "cell_type": "code",
   "execution_count": null,
   "id": "780f670c-2c0d-4a50-bac2-9f1888dc6120",
   "metadata": {},
   "outputs": [],
   "source": [
    "df.head(3)"
   ]
  },
  {
   "cell_type": "code",
   "execution_count": null,
   "id": "ba3d3c56-0774-4bd4-b46d-a1e3c9134310",
   "metadata": {},
   "outputs": [],
   "source": [
    "# Columns to eliminate\n",
    "columns_to_eliminate = [\n",
    "    \"Sku_Quantity\",\n",
    "    \"Order_ID\",\n",
    "    \"Product_ID\",\n",
    "    \"User_ID\",\n",
    "    \"Category_ID\",\n",
    "    \"Order_Datetime\"\n",
    "]"
   ]
  },
  {
   "cell_type": "code",
   "execution_count": null,
   "id": "a7c1994a-1e31-4be3-a6da-9057847ed52e",
   "metadata": {},
   "outputs": [],
   "source": [
    "#Eliminate unused features\n",
    "df.drop(labels = columns_to_eliminate, axis = 1,inplace = True)"
   ]
  },
  {
   "cell_type": "code",
   "execution_count": null,
   "id": "bf589eed-3e3e-4987-ae97-21ceadacad97",
   "metadata": {},
   "outputs": [],
   "source": [
    "from sklearn.preprocessing import LabelEncoder\n",
    "\n",
    "# Make a copy to preserve the original DataFrame\n",
    "df_encoded = df.copy()\n",
    "\n",
    "# Identify categorical columns (usually of object or category dtype)\n",
    "categorical_cols = df_encoded.select_dtypes(include=['object', 'category_jewel']).columns\n",
    "\n",
    "# Initialize LabelEncoder\n",
    "le = LabelEncoder()\n",
    "\n",
    "# Apply LabelEncoder to each categorical column\n",
    "for col in categorical_cols:\n",
    "    df_encoded[col] = le.fit_transform(df_encoded[col].astype(str))\n",
    "\n",
    "# Confirm the data types are now numeric\n",
    "print(df_encoded.dtypes)\n"
   ]
  },
  {
   "cell_type": "code",
   "execution_count": null,
   "id": "173f9e78-2613-4615-8287-24fc9e4568f0",
   "metadata": {},
   "outputs": [],
   "source": [
    "# Drop Target column (Price_USD)\n",
    "X = df.drop(Columns = ['Price_USD']).values\n",
    "y = df['Price_USD'].values"
   ]
  },
  {
   "cell_type": "code",
   "execution_count": null,
   "id": "f7eacca8-73e5-4947-89d0-e928533322b1",
   "metadata": {},
   "outputs": [],
   "source": [
    "X.shape"
   ]
  },
  {
   "cell_type": "code",
   "execution_count": null,
   "id": "4505c238-f32a-40ab-981f-e8ee10678c6f",
   "metadata": {},
   "outputs": [],
   "source": [
    "y.shape"
   ]
  },
  {
   "cell_type": "markdown",
   "id": "3d156c73-5b2d-4675-936a-be76c6ace5c0",
   "metadata": {},
   "source": [
    "# Data Preparation"
   ]
  },
  {
   "cell_type": "markdown",
   "id": "4c7a7d66-5293-4ab0-9305-e0fb2fb380cd",
   "metadata": {},
   "source": [
    "# Based on observation from the exploration of the dataset, the following will be done in the data preparation stage\n",
    "\n",
    "1.Missing value- replace missing value with mean or median\n",
    "2.Feature Encoding- Categorical value will be encoded\n",
    "3.Redundant feature will be eliminated, such as SKU_Quantity, Order_ID, Product_ID,Order_Datetime\n",
    "4.Target Skew- The target variable is strongly right-skewed- this can resolved by using the TransformedTargetRegressor\n",
    "\n",
    "Using Sci-kit learn;\n",
    "\n",
    "Summary steps in Data preparation;\n",
    "\n",
    "1.Eliminate features not required.\n",
    "2.Extra records in actual categories\n",
    "3.Encode categorical features (if required)\n",
    "4.Account for target skew\n",
    "5.fix missing values\n"
   ]
  },
  {
   "cell_type": "markdown",
   "id": "8c9e6359-5d6e-48ff-84de-1a5f667fefc2",
   "metadata": {},
   "source": [
    "# Split Data into Training and Testing Sets"
   ]
  },
  {
   "cell_type": "code",
   "execution_count": null,
   "id": "9ebeb1a1-c994-4c7a-9a9d-8bd00a9f34ae",
   "metadata": {},
   "outputs": [],
   "source": [
    "from sklearn.preprocessing import StandardScaler\n",
    "from sklearn.model_selection import train_test_split\n"
   ]
  },
  {
   "cell_type": "code",
   "execution_count": null,
   "id": "67a2428a-48d3-4c93-b69c-aa14cdda73e3",
   "metadata": {},
   "outputs": [],
   "source": [
    "# Split into training and testing sets (80% train, 20% test)\n",
    "X_train, X_test, y_train, y_test = train_test_split(X, y, test_size=0.33, random_state=42)"
   ]
  },
  {
   "cell_type": "code",
   "execution_count": null,
   "id": "3e931305-fcff-42a8-93ce-5ee280f944fb",
   "metadata": {},
   "outputs": [],
   "source": [
    "#df1 = df[['Category', 'Branch_ID','Target_Gender', 'Main_Color', 'Main_Metal', 'Main_Gem']]\n",
    "\n",
    "#label = df[['Price_USD']]\n",
    "\n",
    "#X = [[df1]]\n",
    "#y = [[label]]"
   ]
  },
  {
   "cell_type": "code",
   "execution_count": null,
   "id": "90979887-7dd8-4b94-b627-ef67503d2d4e",
   "metadata": {},
   "outputs": [],
   "source": [
    "# Split into training and testing sets (80% train, 20% test)\n",
    "X_train, X_test, y_train, y_test = train_test_split(X, y, test_size=0.33, random_state=42)"
   ]
  },
  {
   "cell_type": "code",
   "execution_count": null,
   "id": "d62c326a-7620-47b4-8d2d-c45566924b21",
   "metadata": {},
   "outputs": [],
   "source": [
    "# dealing with outliers-\n",
    "\n",
    "# Normalize the data\n",
    "#scaler = MinMaxScaler()\n",
    "\n",
    "#df1[\"Price_USD\"] = scaler.fit_transform(df1['Price_USD'].values.reshape(-1, 1))"
   ]
  },
  {
   "cell_type": "code",
   "execution_count": null,
   "id": "660ebe4a-40ae-4206-9db3-2e5165ad1037",
   "metadata": {},
   "outputs": [],
   "source": [
    "X_train"
   ]
  },
  {
   "cell_type": "markdown",
   "id": "f15963bd-eae4-4c0a-854c-fb1a6956e9bc",
   "metadata": {},
   "source": [
    "# Data Modelling"
   ]
  },
  {
   "cell_type": "markdown",
   "id": "3b869fa3-9f7d-43eb-88a6-ecf9a084c6a1",
   "metadata": {},
   "source": [
    "\n",
    "1.Linear Regression\n",
    "2.Random Forest \n"
   ]
  },
  {
   "cell_type": "markdown",
   "id": "3e2a8719-cc0c-49fd-955d-e790fed3d53b",
   "metadata": {},
   "source": [
    "# Summary Steps\n",
    "1.Encode Categorical features-if required\n",
    "2.Account for target skew\n",
    "3.Fix missing values"
   ]
  },
  {
   "cell_type": "code",
   "execution_count": null,
   "id": "c93a7bcb-6952-4df2-9263-e469b44b155a",
   "metadata": {},
   "outputs": [],
   "source": [
    "ipip install Xgboost"
   ]
  },
  {
   "cell_type": "code",
   "execution_count": null,
   "id": "bd1feff9-557b-4925-be1d-ca5dde8bc960",
   "metadata": {},
   "outputs": [],
   "source": [
    "# Model Building\n",
    "\n",
    "# Logistic Regression\n",
    "\n",
    "logreg = LogisticRegression()\n",
    "\n",
    "logreg.fit(X_train, y_train)\n",
    "\n",
    "ly_pred = logreg.predict(X_test)\n",
    "\n",
    "print(\"Logistic Regression\")\n",
    "print(\"Accuracy:\", accuracy_score(y_test, ly_pred))\n",
    "print(\"Precision:\", precision_score(y_test, ly_pred))\n",
    "print(\"Recall:\", recall_score(y_test, ly_pred))\n",
    "print(\"F1-score:\", f1_score(y_test, ly_pred))\n",
    "print(\"AUC-ROC:\", roc_auc_score(y_test, ly_pred))\n"
   ]
  },
  {
   "cell_type": "code",
   "execution_count": null,
   "id": "e80af4e6-ca30-4c73-bb8c-e2dfda49e885",
   "metadata": {},
   "outputs": [],
   "source": [
    "from xgboost import XGBClassifier\n",
    "\n",
    "model = XGBClassifier(use_label_encoder=False, eval_metric='logloss')\n",
    "model.fit(X_train, y_train)\n",
    "\n",
    "y_pred = model.predict(X_test)\n",
    "accuracy = accuracy_score(y_test, y_pred)\n",
    "print(f\"XGBoost Accuracy: {accuracy:.2f}\")"
   ]
  },
  {
   "cell_type": "code",
   "execution_count": null,
   "id": "a3175f59-9c44-4898-b7b3-c1b1893c69cf",
   "metadata": {},
   "outputs": [],
   "source": [
    "from sklearn.ensemble import RandomForestClassifier\n",
    "\n",
    "model = RandomForestClassifier(n_estimators=100, random_state=42)\n",
    "model.fit(X_train, y_train)\n",
    "\n",
    "y_pred = model.predict(X_test)\n",
    "accuracy = accuracy_score(y_test, y_pred)\n",
    "print(f\"Random Forest Accuracy: {accuracy:.2f}\")"
   ]
  },
  {
   "cell_type": "code",
   "execution_count": null,
   "id": "d3bf656e-d4f2-46ce-8139-d8b75b22159e",
   "metadata": {},
   "outputs": [],
   "source": [
    "from sklearn.preprocessing import StandardScaler\n",
    "\n",
    "# Initialize the scaler\n",
    "#scaler = StandardScaler()\n",
    "\n",
    "# Fit only on the training data and transform both train & test\n",
    "#X_train = scaler.fit_transform(X_train)\n",
    "#X_test = scaler.transform(X_test)\n",
    "\n",
    "# Display the transformed data shape\n",
    "#print(\"X_train shape:\", X_train.shape)\n",
    "#print(\"X_test shape:\", X_test.shape)"
   ]
  },
  {
   "cell_type": "markdown",
   "id": "78d7f158-51d8-4a41-909d-e2998420be64",
   "metadata": {},
   "source": [
    "# Model Evaluation"
   ]
  },
  {
   "cell_type": "code",
   "execution_count": null,
   "id": "6d287618-9da5-4326-81e1-3d98a6b2cca8",
   "metadata": {},
   "outputs": [],
   "source": [
    "from sklearn.metrics import r2_score, mean_squared_error"
   ]
  },
  {
   "cell_type": "code",
   "execution_count": null,
   "id": "5143b0de-b469-4515-97ce-55afb58ebd2d",
   "metadata": {},
   "outputs": [],
   "source": [
    "def root_mean_square_error(y_true, y_pred):\n",
    "    value = mean_squared_error(y_true, y_pred)\n",
    "    return np.sqrt(value)"
   ]
  },
  {
   "cell_type": "code",
   "execution_count": null,
   "id": "f4645d20-5da8-49c4-83cf-935f1552b4c2",
   "metadata": {},
   "outputs": [],
   "source": [
    "#def generate_model_score(model, data, metric_function):\n",
    "    X, y = data\n",
    "    y_= model.predict(X)\n",
    "    score = metric_function(y, y_)\n",
    "    return score"
   ]
  },
  {
   "cell_type": "code",
   "execution_count": null,
   "id": "c0d0208d-c815-4f47-93ea-d41db8a28a97",
   "metadata": {},
   "outputs": [],
   "source": [
    "#def print_metrics(metric_name, train_score, test_score):\n",
    "    print(f\"Train {metric_name} = {train_score}\")\n",
    "    print(f\"Test {metric_name} = {test_score}\")\n",
    "    print(f\"Generalization error {train_score - test_score}\")\n",
    "\n",
    "    return\n",
    "    "
   ]
  },
  {
   "cell_type": "code",
   "execution_count": null,
   "id": "234c370b-0bdf-4ed3-bbcc-5642c0c2d11b",
   "metadata": {},
   "outputs": [],
   "source": [
    "# Expand Train and Test\n",
    "def test_model(model, data, metric_name, metric_function):\n",
    "    train, test = data\n",
    "\n",
    "    if isins"
   ]
  },
  {
   "cell_type": "code",
   "execution_count": null,
   "id": "b4a4f158-aac3-4d4f-a3f1-d17b12951b19",
   "metadata": {},
   "outputs": [],
   "source": [
    "mse = mean_squared_error(y_test, y_pred)\n",
    "rmse = np.sqrt(mse)\n",
    "mae = mean_absolute_error(y_test, y_pred)\n",
    "r2 = r2_score(y_test, y_pred)\n",
    "\n",
    "print(\"Model Evaluation Metrics:\")\n",
    "print(f\"R2 Score: {r2:.4f}\")\n",
    "print(f\"Mean Absolute Error (MAE): {mae:.4f}\")\n",
    "print(f\"Root Mean Squared Error (RMSE): {rmse:.4f}\")\n"
   ]
  },
  {
   "cell_type": "code",
   "execution_count": null,
   "id": "06f637db-42e1-41f8-98cb-60cb1c15ad19",
   "metadata": {},
   "outputs": [],
   "source": [
    "from sklearn.ensemble import RandomForestRegressor\n",
    "\n",
    "rf = RandomForestRegressor(random_state=42)\n",
    "rf.fit(X_train, y_train)\n",
    "y_pred_rf = rf.predict(X_test)\n",
    "print(\"Random Forest MSE:\", mean_squared_error(y_test, y_pred_rf))\n"
   ]
  },
  {
   "cell_type": "code",
   "execution_count": null,
   "id": "d769bc94-9fc8-4249-97f2-63397cde6528",
   "metadata": {},
   "outputs": [],
   "source": []
  }
 ],
 "metadata": {
  "kernelspec": {
   "display_name": "Python 3 (ipykernel)",
   "language": "python",
   "name": "python3"
  },
  "language_info": {
   "codemirror_mode": {
    "name": "ipython",
    "version": 3
   },
   "file_extension": ".py",
   "mimetype": "text/x-python",
   "name": "python",
   "nbconvert_exporter": "python",
   "pygments_lexer": "ipython3",
   "version": "3.11.7"
  }
 },
 "nbformat": 4,
 "nbformat_minor": 5
}
