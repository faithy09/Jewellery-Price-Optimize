{
 "cells": [
  {
   "cell_type": "code",
   "execution_count": 1,
   "id": "f0d2c88b-234a-4183-8709-b2469576e62a",
   "metadata": {},
   "outputs": [],
   "source": [
    "import pandas as pd"
   ]
  },
  {
   "cell_type": "code",
   "execution_count": null,
   "id": "d8e3d579-ca00-499c-993b-d12e0291d389",
   "metadata": {},
   "outputs": [],
   "source": [
    "df = pd.read_csv(\"data/Jewelry_Dataset.csv\")"
   ]
  }
 ],
 "metadata": {
  "kernelspec": {
   "display_name": "Python 3 (ipykernel)",
   "language": "python",
   "name": "python3"
  },
  "language_info": {
   "codemirror_mode": {
    "name": "ipython",
    "version": 3
   },
   "file_extension": ".py",
   "mimetype": "text/x-python",
   "name": "python",
   "nbconvert_exporter": "python",
   "pygments_lexer": "ipython3",
   "version": "3.11.7"
  }
 },
 "nbformat": 4,
 "nbformat_minor": 5
}
